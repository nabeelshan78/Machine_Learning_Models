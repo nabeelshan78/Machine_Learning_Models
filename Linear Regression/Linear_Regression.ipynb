{
 "cells": [
  {
   "cell_type": "markdown",
   "id": "56dff165-1452-4099-9693-998abe9c11fa",
   "metadata": {},
   "source": [
    "# Linear Regression Models\n",
    "* Normal Equation\n",
    "* Batch Gradient Descent\n",
    "* Mini Batch Gradient Descent\n",
    "* Stochastic Gradient Descent"
   ]
  },
  {
   "cell_type": "code",
   "execution_count": 2,
   "id": "d5cb4ee2-7214-4bb0-9604-c1dbb8ffa450",
   "metadata": {},
   "outputs": [
    {
     "name": "stdout",
     "output_type": "stream",
     "text": [
      "[[ 1.49671415  1.8617357 ]\n",
      " [ 3.64768854  5.52302986]\n",
      " [ 4.76584663  5.76586304]\n",
      " [ 8.57921282  8.76743473]\n",
      " [ 8.53052561 10.54256004]\n",
      " [10.53658231 11.53427025]\n",
      " [13.24196227 12.08671976]\n",
      " [13.27508217 15.43771247]\n",
      " [15.98716888 18.31424733]\n",
      " [18.09197592 18.5876963 ]]\n",
      "[ 1.          3.11111111  5.22222222  7.33333333  9.44444444 11.55555556\n",
      " 13.66666667 15.77777778 17.88888889 20.        ]\n"
     ]
    }
   ],
   "source": [
    "import numpy as np\n",
    "import matplotlib.pyplot as plt\n",
    "from sklearn.metrics import mean_squared_error\n",
    "\n",
    "# 10 examples, 2 features, [1, 20]\n",
    "np.random.seed(42)\n",
    "X = np.arange(1, 21).reshape(10, 2) + np.random.normal(scale=1, size=(10, 2)) # mean = 0, std_dev = 1\n",
    "y = np.linspace(1, 20, num=10)\n",
    "\n",
    "print(X)\n",
    "print(y)"
   ]
  },
  {
   "cell_type": "code",
   "execution_count": 3,
   "id": "3fd5843f-e1fa-43fa-b679-5b5bfb85b7ac",
   "metadata": {},
   "outputs": [
    {
     "data": {
      "image/png": "[encoded data removed]",
      "text/plain": [
       "<Figure size 640x480 with 1 Axes>"
      ]
     },
     "metadata": {},
     "output_type": "display_data"
    }
   ],
   "source": [
    "plt.scatter(X[:, 0], X[:, 1])\n",
    "plt.show()"
   ]
  },
  {
   "cell_type": "markdown",
   "id": "29c3104e-d8f5-4cee-a0ed-bcc63900e104",
   "metadata": {},
   "source": [
    "## Linear Regression"
   ]
  },
  {
   "cell_type": "markdown",
   "id": "fbc3e2d7-ffec-4bbc-af1a-ccace7f95f69",
   "metadata": {},
   "source": [
    "`LinearRegression()` will use `Normal Equation` to find optimal parameters."
   ]
  },
  {
   "cell_type": "code",
   "execution_count": 4,
   "id": "829077fa-46dc-46d7-8ccb-d9c09eead5e8",
   "metadata": {},
   "outputs": [
    {
     "data": {
      "text/html": [
       "<style>#sk-container-id-1 {\n",
       "  /* Definition of color scheme common for light and dark mode */\n",
       "  --sklearn-color-text: black;\n",
       "  --sklearn-color-line: gray;\n",
       "  /* Definition of color scheme for unfitted estimators */\n",
       "  --sklearn-color-unfitted-level-0: #fff5e6;\n",
       "  --sklearn-color-unfitted-level-1: #f6e4d2;\n",
       "  --sklearn-color-unfitted-level-2: #ffe0b3;\n",
       "  --sklearn-color-unfitted-level-3: chocolate;\n",
       "  /* Definition of color scheme for fitted estimators */\n",
       "  --sklearn-color-fitted-level-0: #f0f8ff;\n",
       "  --sklearn-color-fitted-level-1: #d4ebff;\n",
       "  --sklearn-color-fitted-level-2: #b3dbfd;\n",
       "  --sklearn-color-fitted-level-3: cornflowerblue;\n",
       "\n",
       "  /* Specific color for light theme */\n",
       "  --sklearn-color-text-on-default-background: var(--sg-text-color, var(--theme-code-foreground, var(--jp-content-font-color1, black)));\n",
       "  --sklearn-color-background: var(--sg-background-color, var(--theme-background, var(--jp-layout-color0, white)));\n",
       "  --sklearn-color-border-box: var(--sg-text-color, var(--theme-code-foreground, var(--jp-content-font-color1, black)));\n",
       "  --sklearn-color-icon: #696969;\n",
       "\n",
       "  @media (prefers-color-scheme: dark) {\n",
       "    /* Redefinition of color scheme for dark theme */\n",
       "    --sklearn-color-text-on-default-background: var(--sg-text-color, var(--theme-code-foreground, var(--jp-content-font-color1, white)));\n",
       "    --sklearn-color-background: var(--sg-background-color, var(--theme-background, var(--jp-layout-color0, #111)));\n",
       "    --sklearn-color-border-box: var(--sg-text-color, var(--theme-code-foreground, var(--jp-content-font-color1, white)));\n",
       "    --sklearn-color-icon: #878787;\n",
       "  }\n",
       "}\n",
       "\n",
       "#sk-container-id-1 {\n",
       "  color: var(--sklearn-color-text);\n",
       "}\n",
       "\n",
       "#sk-container-id-1 pre {\n",
       "  padding: 0;\n",
       "}\n",
       "\n",
       "#sk-container-id-1 input.sk-hidden--visually {\n",
       "  border: 0;\n",
       "  clip: rect(1px 1px 1px 1px);\n",
       "  clip: rect(1px, 1px, 1px, 1px);\n",
       "  height: 1px;\n",
       "  margin: -1px;\n",
       "  overflow: hidden;\n",
       "  padding: 0;\n",
       "  position: absolute;\n",
       "  width: 1px;\n",
       "}\n",
       "\n",
       "#sk-container-id-1 div.sk-dashed-wrapped {\n",
       "  border: 1px dashed var(--sklearn-color-line);\n",
       "  margin: 0 0.4em 0.5em 0.4em;\n",
       "  box-sizing: border-box;\n",
       "  padding-bottom: 0.4em;\n",
       "  background-color: var(--sklearn-color-background);\n",
       "}\n",
       "\n",
       "#sk-container-id-1 div.sk-container {\n",
       "  /* jupyter's `normalize.less` sets `[hidden] { display: none; }`\n",
       "     but bootstrap.min.css set `[hidden] { display: none !important; }`\n",
       "     so we also need the `!important` here to be able to override the\n",
       "     default hidden behavior on the sphinx rendered scikit-learn.org.\n",
       "     See: https://github.com/scikit-learn/scikit-learn/issues/21755 */\n",
       "  display: inline-block !important;\n",
       "  position: relative;\n",
       "}\n",
       "\n",
       "#sk-container-id-1 div.sk-text-repr-fallback {\n",
       "  display: none;\n",
       "}\n",
       "\n",
       "div.sk-parallel-item,\n",
       "div.sk-serial,\n",
       "div.sk-item {\n",
       "  /* draw centered vertical line to link estimators */\n",
       "  background-image: linear-gradient(var(--sklearn-color-text-on-default-background), var(--sklearn-color-text-on-default-background));\n",
       "  background-size: 2px 100%;\n",
       "  background-repeat: no-repeat;\n",
       "  background-position: center center;\n",
       "}\n",
       "\n",
       "/* Parallel-specific style estimator block */\n",
       "\n",
       "#sk-container-id-1 div.sk-parallel-item::after {\n",
       "  content: \"\";\n",
       "  width: 100%;\n",
       "  border-bottom: 2px solid var(--sklearn-color-text-on-default-background);\n",
       "  flex-grow: 1;\n",
       "}\n",
       "\n",
       "#sk-container-id-1 div.sk-parallel {\n",
       "  display: flex;\n",
       "  align-items: stretch;\n",
       "  justify-content: center;\n",
       "  background-color: var(--sklearn-color-background);\n",
       "  position: relative;\n",
       "}\n",
       "\n",
       "#sk-container-id-1 div.sk-parallel-item {\n",
       "  display: flex;\n",
       "  flex-direction: column;\n",
       "}\n",
       "\n",
       "#sk-container-id-1 div.sk-parallel-item:first-child::after {\n",
       "  align-self: flex-end;\n",
       "  width: 50%;\n",
       "}\n",
       "\n",
       "#sk-container-id-1 div.sk-parallel-item:last-child::after {\n",
       "  align-self: flex-start;\n",
       "  width: 50%;\n",
       "}\n",
       "\n",
       "#sk-container-id-1 div.sk-parallel-item:only-child::after {\n",
       "  width: 0;\n",
       "}\n",
       "\n",
       "/* Serial-specific style estimator block */\n",
       "\n",
       "#sk-container-id-1 div.sk-serial {\n",
       "  display: flex;\n",
       "  flex-direction: column;\n",
       "  align-items: center;\n",
       "  background-color: var(--sklearn-color-background);\n",
       "  padding-right: 1em;\n",
       "  padding-left: 1em;\n",
       "}\n",
       "\n",
       "\n",
       "/* Toggleable style: style used for estimator/Pipeline/ColumnTransformer box that is\n",
       "clickable and can be expanded/collapsed.\n",
       "- Pipeline and ColumnTransformer use this feature and define the default style\n",
       "- Estimators will overwrite some part of the style using the `sk-estimator` class\n",
       "*/\n",
       "\n",
       "/* Pipeline and ColumnTransformer style (default) */\n",
       "\n",
       "#sk-container-id-1 div.sk-toggleable {\n",
       "  /* Default theme specific background. It is overwritten whether we have a\n",
       "  specific estimator or a Pipeline/ColumnTransformer */\n",
       "  background-color: var(--sklearn-color-background);\n",
       "}\n",
       "\n",
       "/* Toggleable label */\n",
       "#sk-container-id-1 label.sk-toggleable__label {\n",
       "  cursor: pointer;\n",
       "  display: block;\n",
       "  width: 100%;\n",
       "  margin-bottom: 0;\n",
       "  padding: 0.5em;\n",
       "  box-sizing: border-box;\n",
       "  text-align: center;\n",
       "}\n",
       "\n",
       "#sk-container-id-1 label.sk-toggleable__label-arrow:before {\n",
       "  /* Arrow on the left of the label */\n",
       "  content: \"▸\";\n",
       "  float: left;\n",
       "  margin-right: 0.25em;\n",
       "  color: var(--sklearn-color-icon);\n",
       "}\n",
       "\n",
       "#sk-container-id-1 label.sk-toggleable__label-arrow:hover:before {\n",
       "  color: var(--sklearn-color-text);\n",
       "}\n",
       "\n",
       "/* Toggleable content - dropdown */\n",
       "\n",
       "#sk-container-id-1 div.sk-toggleable__content {\n",
       "  max-height: 0;\n",
       "  max-width: 0;\n",
       "  overflow: hidden;\n",
       "  text-align: left;\n",
       "  /* unfitted */\n",
       "  background-color: var(--sklearn-color-unfitted-level-0);\n",
       "}\n",
       "\n",
       "#sk-container-id-1 div.sk-toggleable__content.fitted {\n",
       "  /* fitted */\n",
       "  background-color: var(--sklearn-color-fitted-level-0);\n",
       "}\n",
       "\n",
       "#sk-container-id-1 div.sk-toggleable__content pre {\n",
       "  margin: 0.2em;\n",
       "  border-radius: 0.25em;\n",
       "  color: var(--sklearn-color-text);\n",
       "  /* unfitted */\n",
       "  background-color: var(--sklearn-color-unfitted-level-0);\n",
       "}\n",
       "\n",
       "#sk-container-id-1 div.sk-toggleable__content.fitted pre {\n",
       "  /* unfitted */\n",
       "  background-color: var(--sklearn-color-fitted-level-0);\n",
       "}\n",
       "\n",
       "#sk-container-id-1 input.sk-toggleable__control:checked~div.sk-toggleable__content {\n",
       "  /* Expand drop-down */\n",
       "  max-height: 200px;\n",
       "  max-width: 100%;\n",
       "  overflow: auto;\n",
       "}\n",
       "\n",
       "#sk-container-id-1 input.sk-toggleable__control:checked~label.sk-toggleable__label-arrow:before {\n",
       "  content: \"▾\";\n",
       "}\n",
       "\n",
       "/* Pipeline/ColumnTransformer-specific style */\n",
       "\n",
       "#sk-container-id-1 div.sk-label input.sk-toggleable__control:checked~label.sk-toggleable__label {\n",
       "  color: var(--sklearn-color-text);\n",
       "  background-color: var(--sklearn-color-unfitted-level-2);\n",
       "}\n",
       "\n",
       "#sk-container-id-1 div.sk-label.fitted input.sk-toggleable__control:checked~label.sk-toggleable__label {\n",
       "  background-color: var(--sklearn-color-fitted-level-2);\n",
       "}\n",
       "\n",
       "/* Estimator-specific style */\n",
       "\n",
       "/* Colorize estimator box */\n",
       "#sk-container-id-1 div.sk-estimator input.sk-toggleable__control:checked~label.sk-toggleable__label {\n",
       "  /* unfitted */\n",
       "  background-color: var(--sklearn-color-unfitted-level-2);\n",
       "}\n",
       "\n",
       "#sk-container-id-1 div.sk-estimator.fitted input.sk-toggleable__control:checked~label.sk-toggleable__label {\n",
       "  /* fitted */\n",
       "  background-color: var(--sklearn-color-fitted-level-2);\n",
       "}\n",
       "\n",
       "#sk-container-id-1 div.sk-label label.sk-toggleable__label,\n",
       "#sk-container-id-1 div.sk-label label {\n",
       "  /* The background is the default theme color */\n",
       "  color: var(--sklearn-color-text-on-default-background);\n",
       "}\n",
       "\n",
       "/* On hover, darken the color of the background */\n",
       "#sk-container-id-1 div.sk-label:hover label.sk-toggleable__label {\n",
       "  color: var(--sklearn-color-text);\n",
       "  background-color: var(--sklearn-color-unfitted-level-2);\n",
       "}\n",
       "\n",
       "/* Label box, darken color on hover, fitted */\n",
       "#sk-container-id-1 div.sk-label.fitted:hover label.sk-toggleable__label.fitted {\n",
       "  color: var(--sklearn-color-text);\n",
       "  background-color: var(--sklearn-color-fitted-level-2);\n",
       "}\n",
       "\n",
       "/* Estimator label */\n",
       "\n",
       "#sk-container-id-1 div.sk-label label {\n",
       "  font-family: monospace;\n",
       "  font-weight: bold;\n",
       "  display: inline-block;\n",
       "  line-height: 1.2em;\n",
       "}\n",
       "\n",
       "#sk-container-id-1 div.sk-label-container {\n",
       "  text-align: center;\n",
       "}\n",
       "\n",
       "/* Estimator-specific */\n",
       "#sk-container-id-1 div.sk-estimator {\n",
       "  font-family: monospace;\n",
       "  border: 1px dotted var(--sklearn-color-border-box);\n",
       "  border-radius: 0.25em;\n",
       "  box-sizing: border-box;\n",
       "  margin-bottom: 0.5em;\n",
       "  /* unfitted */\n",
       "  background-color: var(--sklearn-color-unfitted-level-0);\n",
       "}\n",
       "\n",
       "#sk-container-id-1 div.sk-estimator.fitted {\n",
       "  /* fitted */\n",
       "  background-color: var(--sklearn-color-fitted-level-0);\n",
       "}\n",
       "\n",
       "/* on hover */\n",
       "#sk-container-id-1 div.sk-estimator:hover {\n",
       "  /* unfitted */\n",
       "  background-color: var(--sklearn-color-unfitted-level-2);\n",
       "}\n",
       "\n",
       "#sk-container-id-1 div.sk-estimator.fitted:hover {\n",
       "  /* fitted */\n",
       "  background-color: var(--sklearn-color-fitted-level-2);\n",
       "}\n",
       "\n",
       "/* Specification for estimator info (e.g. \"i\" and \"?\") */\n",
       "\n",
       "/* Common style for \"i\" and \"?\" */\n",
       "\n",
       ".sk-estimator-doc-link,\n",
       "a:link.sk-estimator-doc-link,\n",
       "a:visited.sk-estimator-doc-link {\n",
       "  float: right;\n",
       "  font-size: smaller;\n",
       "  line-height: 1em;\n",
       "  font-family: monospace;\n",
       "  background-color: var(--sklearn-color-background);\n",
       "  border-radius: 1em;\n",
       "  height: 1em;\n",
       "  width: 1em;\n",
       "  text-decoration: none !important;\n",
       "  margin-left: 1ex;\n",
       "  /* unfitted */\n",
       "  border: var(--sklearn-color-unfitted-level-1) 1pt solid;\n",
       "  color: var(--sklearn-color-unfitted-level-1);\n",
       "}\n",
       "\n",
       ".sk-estimator-doc-link.fitted,\n",
       "a:link.sk-estimator-doc-link.fitted,\n",
       "a:visited.sk-estimator-doc-link.fitted {\n",
       "  /* fitted */\n",
       "  border: var(--sklearn-color-fitted-level-1) 1pt solid;\n",
       "  color: var(--sklearn-color-fitted-level-1);\n",
       "}\n",
       "\n",
       "/* On hover */\n",
       "div.sk-estimator:hover .sk-estimator-doc-link:hover,\n",
       ".sk-estimator-doc-link:hover,\n",
       "div.sk-label-container:hover .sk-estimator-doc-link:hover,\n",
       ".sk-estimator-doc-link:hover {\n",
       "  /* unfitted */\n",
       "  background-color: var(--sklearn-color-unfitted-level-3);\n",
       "  color: var(--sklearn-color-background);\n",
       "  text-decoration: none;\n",
       "}\n",
       "\n",
       "div.sk-estimator.fitted:hover .sk-estimator-doc-link.fitted:hover,\n",
       ".sk-estimator-doc-link.fitted:hover,\n",
       "div.sk-label-container:hover .sk-estimator-doc-link.fitted:hover,\n",
       ".sk-estimator-doc-link.fitted:hover {\n",
       "  /* fitted */\n",
       "  background-color: var(--sklearn-color-fitted-level-3);\n",
       "  color: var(--sklearn-color-background);\n",
       "  text-decoration: none;\n",
       "}\n",
       "\n",
       "/* Span, style for the box shown on hovering the info icon */\n",
       ".sk-estimator-doc-link span {\n",
       "  display: none;\n",
       "  z-index: 9999;\n",
       "  position: relative;\n",
       "  font-weight: normal;\n",
       "  right: .2ex;\n",
       "  padding: .5ex;\n",
       "  margin: .5ex;\n",
       "  width: min-content;\n",
       "  min-width: 20ex;\n",
       "  max-width: 50ex;\n",
       "  color: var(--sklearn-color-text);\n",
       "  box-shadow: 2pt 2pt 4pt #999;\n",
       "  /* unfitted */\n",
       "  background: var(--sklearn-color-unfitted-level-0);\n",
       "  border: .5pt solid var(--sklearn-color-unfitted-level-3);\n",
       "}\n",
       "\n",
       ".sk-estimator-doc-link.fitted span {\n",
       "  /* fitted */\n",
       "  background: var(--sklearn-color-fitted-level-0);\n",
       "  border: var(--sklearn-color-fitted-level-3);\n",
       "}\n",
       "\n",
       ".sk-estimator-doc-link:hover span {\n",
       "  display: block;\n",
       "}\n",
       "\n",
       "/* \"?\"-specific style due to the `<a>` HTML tag */\n",
       "\n",
       "#sk-container-id-1 a.estimator_doc_link {\n",
       "  float: right;\n",
       "  font-size: 1rem;\n",
       "  line-height: 1em;\n",
       "  font-family: monospace;\n",
       "  background-color: var(--sklearn-color-background);\n",
       "  border-radius: 1rem;\n",
       "  height: 1rem;\n",
       "  width: 1rem;\n",
       "  text-decoration: none;\n",
       "  /* unfitted */\n",
       "  color: var(--sklearn-color-unfitted-level-1);\n",
       "  border: var(--sklearn-color-unfitted-level-1) 1pt solid;\n",
       "}\n",
       "\n",
       "#sk-container-id-1 a.estimator_doc_link.fitted {\n",
       "  /* fitted */\n",
       "  border: var(--sklearn-color-fitted-level-1) 1pt solid;\n",
       "  color: var(--sklearn-color-fitted-level-1);\n",
       "}\n",
       "\n",
       "/* On hover */\n",
       "#sk-container-id-1 a.estimator_doc_link:hover {\n",
       "  /* unfitted */\n",
       "  background-color: var(--sklearn-color-unfitted-level-3);\n",
       "  color: var(--sklearn-color-background);\n",
       "  text-decoration: none;\n",
       "}\n",
       "\n",
       "#sk-container-id-1 a.estimator_doc_link.fitted:hover {\n",
       "  /* fitted */\n",
       "  background-color: var(--sklearn-color-fitted-level-3);\n",
       "}\n",
       "</style><div id=\"sk-container-id-1\" class=\"sk-top-container\"><div class=\"sk-text-repr-fallback\"><pre>LinearRegression()</pre><b>In a Jupyter environment, please rerun this cell to show the HTML representation or trust the notebook. <br />On GitHub, the HTML representation is unable to render, please try loading this page with nbviewer.org.</b></div><div class=\"sk-container\" hidden><div class=\"sk-item\"><div class=\"sk-estimator fitted sk-toggleable\"><input class=\"sk-toggleable__control sk-hidden--visually\" id=\"sk-estimator-id-1\" type=\"checkbox\" checked><label for=\"sk-estimator-id-1\" class=\"sk-toggleable__label fitted sk-toggleable__label-arrow fitted\">&nbsp;&nbsp;LinearRegression<a class=\"sk-estimator-doc-link fitted\" rel=\"noreferrer\" target=\"_blank\" href=\"https://scikit-learn.org/1.5/modules/generated/sklearn.linear_model.LinearRegression.html\">?<span>Documentation for LinearRegression</span></a><span class=\"sk-estimator-doc-link fitted\">i<span>Fitted</span></span></label><div class=\"sk-toggleable__content fitted\"><pre>LinearRegression()</pre></div> </div></div></div></div>"
      ],
      "text/plain": [
       "LinearRegression()"
      ]
     },
     "execution_count": 4,
     "metadata": {},
     "output_type": "execute_result"
    }
   ],
   "source": [
    "from sklearn.linear_model import LinearRegression\n",
    "\n",
    "lin_model = LinearRegression()\n",
    "lin_model.fit(X, y)"
   ]
  },
  {
   "cell_type": "code",
   "execution_count": 5,
   "id": "1e4f34d7-1a32-4d59-8d00-fbac4a3dbb3b",
   "metadata": {},
   "outputs": [
    {
     "name": "stdout",
     "output_type": "stream",
     "text": [
      "Optimal Parameters:\n",
      "\n",
      "-1.4093504270570243 [0.6932152  0.47087181]\n"
     ]
    }
   ],
   "source": [
    "print(\"Optimal Parameters:\\n\")\n",
    "print(lin_model.intercept_, end=\" \")\n",
    "print(lin_model.coef_)"
   ]
  },
  {
   "cell_type": "code",
   "execution_count": 6,
   "id": "9e644d3a-5451-4857-8636-72ed8a7bb14d",
   "metadata": {},
   "outputs": [
    {
     "name": "stdout",
     "output_type": "stream",
     "text": [
      "Linear Model Predictions:\n",
      " [ 0.50483344  3.71992179  4.60938927  8.66622818  9.46833394 11.32593131\n",
      " 13.46147473 15.06232195 18.29686087 19.88470452]\n"
     ]
    }
   ],
   "source": [
    "lin_mod_predictions = lin_model.predict(X)\n",
    "print(\"Linear Model Predictions:\\n\", lin_mod_predictions)"
   ]
  },
  {
   "cell_type": "code",
   "execution_count": 7,
   "id": "241dd27b-75df-4139-bd03-5da3d5aa453e",
   "metadata": {},
   "outputs": [
    {
     "name": "stdout",
     "output_type": "stream",
     "text": [
      "Optimal Parameters:\n",
      " [-1.40935043  0.6932152   0.47087181]\n"
     ]
    }
   ],
   "source": [
    "def normal_equation(X, y):\n",
    "    theta = np.linalg.inv(X.T @ X) @ X.T @ y\n",
    "    return theta\n",
    "\n",
    "bias_terms = np.ones(10, dtype=int).reshape(10, 1)\n",
    "X1 = np.append(arr=bias_terms, values=X, axis=1)\n",
    "print(\"Optimal Parameters:\\n\", normal_equation(X1, y))"
   ]
  },
  {
   "cell_type": "markdown",
   "id": "78ab2e4b-2ea0-494b-b96a-c8ce250d40c9",
   "metadata": {},
   "source": [
    "We can see that parameters are same."
   ]
  },
  {
   "cell_type": "markdown",
   "id": "48f8074c-3aeb-4b0a-b5ff-4f33e14cba7e",
   "metadata": {},
   "source": [
    "## Gradient Descent"
   ]
  },
  {
   "cell_type": "markdown",
   "id": "bf465747-fbe6-4a91-9a50-9b5245e3a2f8",
   "metadata": {},
   "source": [
    "`Batch Gradient Descent`: Parameters are updated after computing the gradient of the error with respect to the entire training set  \n",
    "`Stochastic Gradient Descent`: Parameters are updated after computing the gradient of the error with respect to a single training example  \n",
    "`Mini-Batch Gradient Descent`: Parameters are updated after computing the gradient of  the error with respect to a subset of the training set"
   ]
  },
  {
   "cell_type": "markdown",
   "id": "6b699250-5ce2-4d54-88c5-333ddd510d2b",
   "metadata": {},
   "source": [
    "### Batch Gradient Descent"
   ]
  },
  {
   "cell_type": "code",
   "execution_count": 8,
   "id": "0868b06a-fbc3-4451-a19b-b092b4f91406",
   "metadata": {},
   "outputs": [
    {
     "name": "stdout",
     "output_type": "stream",
     "text": [
      "Iteration 0, Cost: 0.5604658697169314\n",
      "Iteration 50, Cost: 0.06485356782485904\n",
      "Iteration 100, Cost: 0.06326807044910739\n",
      "Iteration 150, Cost: 0.061757744411416717\n",
      "Iteration 200, Cost: 0.06031835551331335\n",
      "Iteration 250, Cost: 0.058945922708905064\n",
      "Iteration 300, Cost: 0.0576367026998693\n",
      "Iteration 350, Cost: 0.056387175472564055\n",
      "Iteration 400, Cost: 0.055194030719551514\n",
      "Iteration 450, Cost: 0.05405415509137494\n",
      "Iteration 500, Cost: 0.05296462022774575\n",
      "Iteration 550, Cost: 0.05192267152041315\n",
      "Iteration 600, Cost: 0.05092571756291282\n",
      "Iteration 650, Cost: 0.049971320245134544\n",
      "Iteration 700, Cost: 0.04905718545322779\n",
      "Iteration 750, Cost: 0.048181154337780065\n",
      "Iteration 800, Cost: 0.04734119511547601\n",
      "Iteration 850, Cost: 0.04653539537157474\n",
      "Iteration 900, Cost: 0.045761954832544735\n",
      "Iteration 950, Cost: 0.04501917858007366\n",
      "Iteration 1000, Cost: 0.044305470679433884\n",
      "Iteration 1050, Cost: 0.04361932819683868\n",
      "Iteration 1100, Cost: 0.042959335581978876\n",
      "Iteration 1150, Cost: 0.04232415939338826\n",
      "Iteration 1200, Cost: 0.04171254334565393\n",
      "Iteration 1250, Cost: 0.04112330365877465\n",
      "Iteration 1300, Cost: 0.040555324691176196\n",
      "Iteration 1350, Cost: 0.04000755483902472\n",
      "Iteration 1400, Cost: 0.039479002685543205\n",
      "Iteration 1450, Cost: 0.03896873338503411\n",
      "Iteration 1500, Cost: 0.03847586526724759\n",
      "Iteration 1550, Cost: 0.037999566648614834\n",
      "Iteration 1600, Cost: 0.03753905283769169\n",
      "Iteration 1650, Cost: 0.03709358332293219\n",
      "Iteration 1700, Cost: 0.036662459131640214\n",
      "Iteration 1750, Cost: 0.03624502034962932\n",
      "Iteration 1800, Cost: 0.035840643791762945\n",
      "Iteration 1850, Cost: 0.03544874081414871\n",
      "Iteration 1900, Cost: 0.03506875525932537\n",
      "Iteration 1950, Cost: 0.034700161526311266\n",
      "Iteration 2000, Cost: 0.034342462757881886\n",
      "Iteration 2050, Cost: 0.03399518913791037\n",
      "Iteration 2100, Cost: 0.03365789629204453\n",
      "Iteration 2150, Cost: 0.03333016378540511\n",
      "Iteration 2200, Cost: 0.033011593711377\n",
      "Iteration 2250, Cost: 0.032701809365928286\n",
      "Iteration 2300, Cost: 0.032400454002232675\n",
      "Iteration 2350, Cost: 0.03210718966068972\n",
      "Iteration 2400, Cost: 0.031821696069739336\n",
      "Iteration 2450, Cost: 0.03154366961314742\n",
      "Iteration 2500, Cost: 0.031272822359704834\n",
      "Iteration 2550, Cost: 0.03100888115152976\n",
      "Iteration 2600, Cost: 0.03075158674739743\n",
      "Iteration 2650, Cost: 0.03050069301773951\n",
      "Iteration 2700, Cost: 0.030255966188160933\n",
      "Iteration 2750, Cost: 0.030017184128515163\n",
      "Iteration 2800, Cost: 0.02978413568475981\n",
      "Iteration 2850, Cost: 0.029556620050984816\n",
      "Iteration 2900, Cost: 0.029334446179163687\n",
      "Iteration 2950, Cost: 0.029117432224330643\n",
      "Iteration 3000, Cost: 0.0289054050230242\n",
      "Iteration 3050, Cost: 0.02869819960297194\n",
      "Iteration 3100, Cost: 0.028495658722114247\n",
      "Iteration 3150, Cost: 0.028297632435180724\n",
      "Iteration 3200, Cost: 0.028103977686143998\n",
      "Iteration 3250, Cost: 0.027914557924974947\n",
      "Iteration 3300, Cost: 0.027729242747223864\n",
      "Iteration 3350, Cost: 0.02754790755503801\n",
      "Iteration 3400, Cost: 0.027370433238314375\n",
      "Iteration 3450, Cost: 0.02719670587476445\n",
      "Iteration 3500, Cost: 0.027026616447742086\n",
      "Iteration 3550, Cost: 0.02686006058075734\n",
      "Iteration 3600, Cost: 0.02669693828766334\n",
      "Iteration 3650, Cost: 0.02653715373756676\n",
      "Iteration 3700, Cost: 0.02638061503356854\n",
      "Iteration 3750, Cost: 0.02622723400449812\n",
      "Iteration 3800, Cost: 0.02607692600885413\n",
      "Iteration 3850, Cost: 0.025929609750212773\n",
      "Iteration 3900, Cost: 0.0257852071034111\n",
      "Iteration 3950, Cost: 0.025643642950853317\n",
      "Iteration 4000, Cost: 0.025504845028329497\n",
      "Iteration 4050, Cost: 0.025368743779771753\n",
      "Iteration 4100, Cost: 0.025235272220409655\n",
      "Iteration 4150, Cost: 0.02510436580781855\n",
      "Iteration 4200, Cost: 0.02497596232038484\n",
      "Iteration 4250, Cost: 0.02485000174274276\n",
      "Iteration 4300, Cost: 0.024726426157763305\n",
      "Iteration 4350, Cost: 0.024605179644701342\n",
      "Iteration 4400, Cost: 0.024486208183131918\n",
      "Iteration 4450, Cost: 0.024369459562328284\n",
      "Iteration 4500, Cost: 0.02425488329575611\n",
      "Iteration 4550, Cost: 0.024142430540377062\n",
      "Iteration 4600, Cost: 0.024032054020475518\n",
      "Iteration 4650, Cost: 0.023923707955737047\n",
      "Iteration 4700, Cost: 0.02381734799332617\n",
      "Iteration 4750, Cost: 0.023712931143725014\n",
      "Iteration 4800, Cost: 0.023610415720108618\n",
      "Iteration 4850, Cost: 0.023509761281047908\n",
      "Iteration 4900, Cost: 0.023410928576341954\n",
      "Iteration 4950, Cost: 0.023313879495795043\n",
      "Iteration 5000, Cost: 0.023218577020763843\n",
      "Iteration 5050, Cost: 0.023124985178311616\n",
      "Iteration 5100, Cost: 0.023033068997815476\n",
      "Iteration 5150, Cost: 0.02294279446988285\n",
      "Iteration 5200, Cost: 0.022854128507441143\n",
      "Iteration 5250, Cost: 0.022767038908873306\n",
      "Iteration 5300, Cost: 0.022681494323080316\n",
      "Iteration 5350, Cost: 0.02259746421635697\n",
      "Iteration 5400, Cost: 0.02251491884097651\n",
      "Iteration 5450, Cost: 0.02243382920538419\n",
      "Iteration 5500, Cost: 0.022354167045906665\n",
      "Iteration 5550, Cost: 0.022275904799889782\n",
      "Iteration 5600, Cost: 0.02219901558018201\n",
      "Iteration 5650, Cost: 0.022123473150886662\n",
      "Iteration 5700, Cost: 0.02204925190430945\n",
      "Iteration 5750, Cost: 0.021976326839034107\n",
      "Iteration 5800, Cost: 0.021904673539060317\n",
      "Iteration 5850, Cost: 0.02183426815394502\n",
      "Iteration 5900, Cost: 0.02176508737988958\n",
      "Iteration 5950, Cost: 0.021697108441719185\n",
      "Iteration 6000, Cost: 0.021630309075705016\n",
      "Iteration 6050, Cost: 0.021564667513181424\n",
      "Iteration 6100, Cost: 0.021500162464914086\n",
      "Iteration 6150, Cost: 0.021436773106177125\n",
      "Iteration 6200, Cost: 0.021374479062500132\n",
      "Iteration 6250, Cost: 0.021313260396048157\n",
      "Iteration 6300, Cost: 0.021253097592600117\n",
      "Iteration 6350, Cost: 0.021193971549092402\n",
      "Iteration 6400, Cost: 0.021135863561697693\n",
      "Iteration 6450, Cost: 0.02107875531440954\n",
      "Iteration 6500, Cost: 0.021022628868105776\n",
      "Iteration 6550, Cost: 0.020967466650064964\n",
      "Iteration 6600, Cost: 0.020913251443912102\n",
      "Iteration 6650, Cost: 0.020859966379970434\n",
      "Iteration 6700, Cost: 0.020807594925998405\n",
      "Iteration 6750, Cost: 0.020756120878291616\n",
      "Iteration 6800, Cost: 0.020705528353130585\n",
      "Iteration 6850, Cost: 0.020655801778556866\n",
      "Iteration 6900, Cost: 0.020606925886460233\n",
      "Iteration 6950, Cost: 0.020558885704961744\n",
      "Iteration 7000, Cost: 0.020511666551077168\n",
      "Iteration 7050, Cost: 0.020465254023647125\n",
      "Iteration 7100, Cost: 0.020419633996520598\n",
      "Iteration 7150, Cost: 0.02037479261197918\n",
      "Iteration 7200, Cost: 0.020330716274390582\n",
      "Iteration 7250, Cost: 0.020287391644079937\n",
      "Iteration 7300, Cost: 0.020244805631408833\n",
      "Iteration 7350, Cost: 0.020202945391051975\n",
      "Iteration 7400, Cost: 0.020161798316462025\n",
      "Iteration 7450, Cost: 0.02012135203451417\n",
      "Iteration 7500, Cost: 0.02008159440032182\n",
      "Iteration 7550, Cost: 0.020042513492215856\n",
      "Iteration 7600, Cost: 0.02000409760687969\n",
      "Iteration 7650, Cost: 0.019966335254633493\n",
      "Iteration 7700, Cost: 0.01992921515486065\n",
      "Iteration 7750, Cost: 0.0198927262315707\n",
      "Iteration 7800, Cost: 0.019856857609092067\n",
      "Iteration 7850, Cost: 0.01982159860788987\n",
      "Iteration 7900, Cost: 0.019786938740502896\n",
      "Iteration 7950, Cost: 0.019752867707594983\n",
      "Iteration 8000, Cost: 0.019719375394116046\n",
      "Iteration 8050, Cost: 0.019686451865568416\n",
      "Iteration 8100, Cost: 0.019654087364373858\n",
      "Iteration 8150, Cost: 0.019622272306337722\n",
      "Iteration 8200, Cost: 0.019590997277206014\n",
      "Iteration 8250, Cost: 0.01956025302931213\n",
      "Iteration 8300, Cost: 0.019530030478309365\n",
      "Iteration 8350, Cost: 0.01950032069998657\n",
      "Iteration 8400, Cost: 0.01947111492716321\n",
      "Iteration 8450, Cost: 0.0194424045466615\n",
      "Iteration 8500, Cost: 0.019414181096352085\n",
      "Iteration 8550, Cost: 0.019386436262271656\n",
      "Iteration 8600, Cost: 0.01935916187580891\n",
      "Iteration 8650, Cost: 0.01933234991095719\n",
      "Iteration 8700, Cost: 0.019305992481631278\n",
      "Iteration 8750, Cost: 0.01928008183904591\n",
      "Iteration 8800, Cost: 0.019254610369154705\n",
      "Iteration 8850, Cost: 0.019229570590146627\n",
      "Iteration 8900, Cost: 0.019204955149998686\n",
      "Iteration 8950, Cost: 0.019180756824082965\n",
      "Iteration 9000, Cost: 0.01915696851282614\n",
      "Iteration 9050, Cost: 0.01913358323941992\n",
      "Iteration 9100, Cost: 0.01911059414758113\n",
      "Iteration 9150, Cost: 0.019087994499359343\n",
      "Iteration 9200, Cost: 0.019065777672991318\n",
      "Iteration 9250, Cost: 0.019043937160800255\n",
      "Iteration 9300, Cost: 0.01902246656713909\n",
      "Iteration 9350, Cost: 0.019001359606376313\n",
      "Iteration 9400, Cost: 0.018980610100923063\n",
      "Iteration 9450, Cost: 0.01896021197930054\n",
      "Iteration 9500, Cost: 0.01894015927424644\n",
      "Iteration 9550, Cost: 0.018920446120859642\n",
      "Iteration 9600, Cost: 0.018901066754781638\n",
      "Iteration 9650, Cost: 0.018882015510414574\n",
      "Iteration 9700, Cost: 0.01886328681917359\n",
      "Iteration 9750, Cost: 0.01884487520777437\n",
      "Iteration 9800, Cost: 0.018826775296553362\n",
      "Iteration 9850, Cost: 0.018808981797820742\n",
      "Iteration 9900, Cost: 0.01879148951424539\n",
      "Iteration 9950, Cost: 0.018774293337270303\n",
      "\n",
      "Optimized Weights: [[0.74385087]\n",
      " [0.39995853]]\n",
      "Optimized Bias: [-1.08139038]\n",
      "\n",
      "Predictions:\n",
      " [[ 0.77655881]\n",
      " [ 3.84092879]\n",
      " [ 4.76979485]\n",
      " [ 8.80687479]\n",
      " [ 9.48063528]\n",
      " [11.36948524]\n",
      " [13.60284136]\n",
      " [14.96773574]\n",
      " [18.13561843]\n",
      " [19.81064922]]\n"
     ]
    }
   ],
   "source": [
    "def batch_gradient_descent(X, y, learning_rate=0.01, num_iterations=1000):\n",
    "    # Initialize model parameters (weights and bias) with random values\n",
    "    np.random.seed(0)\n",
    "    y = y.reshape(-1, 1)\n",
    "    num_features = X.shape[1]\n",
    "    m = X.shape[0]\n",
    "    weights = np.random.rand(num_features, 1)  # [0, 1) of shape given\n",
    "    bias = np.random.rand(1)\n",
    " \n",
    "    # History to store cost values over iterations\n",
    "    cost_history = []\n",
    " \n",
    "    # Batch Gradient Descent\n",
    "    for iteration in range(num_iterations):\n",
    "        predictions = np.dot(X, weights) + bias\n",
    "        mse_cost = np.mean((predictions - y)**2) / (2 * m)\n",
    "        cost_history.append(mse_cost)\n",
    " \n",
    "        gradient_weights = (1 / len(y)) * np.dot(X.T, (predictions - y))\n",
    "        gradient_bias = (1 / len(y)) * np.sum(predictions - y)\n",
    " \n",
    "        weights -= learning_rate * gradient_weights\n",
    "        bias -= learning_rate * gradient_bias\n",
    " \n",
    "        # Print the current cost every 100 iterations\n",
    "        if iteration % 50 == 0:\n",
    "            print(f\"Iteration {iteration}, Cost: {mse_cost}\")\n",
    " \n",
    "    return weights, bias, cost_history\n",
    "\n",
    "def batch_predict(X, w, b):\n",
    "    predictions = np.dot(X, w) + b\n",
    "    return predictions\n",
    "\n",
    "\n",
    "learning_rate = 0.001\n",
    "num_iterations = 10000\n",
    "opt_weights, opt_bias, cost_history = batch_gradient_descent(X, y, learning_rate=learning_rate, num_iterations=num_iterations)\n",
    "\n",
    "print(\"\\nOptimized Weights:\", opt_weights)\n",
    "print(\"Optimized Bias:\", opt_bias)\n",
    "\n",
    "batch_predictions = batch_predict(X, opt_weights, opt_bias)\n",
    "print(\"\\nPredictions:\\n\", batch_predictions)"
   ]
  },
  {
   "cell_type": "code",
   "execution_count": 9,
   "id": "68850453-0309-4a0e-b027-e3d07d240657",
   "metadata": {},
   "outputs": [
    {
     "data": {
      "text/plain": [
       "[]"
      ]
     },
     "execution_count": 9,
     "metadata": {},
     "output_type": "execute_result"
    },
    {
     "data": {
      "image/png": "[encoded data removed]",
      "text/plain": [
       "<Figure size 640x480 with 1 Axes>"
      ]
     },
     "metadata": {},
     "output_type": "display_data"
    }
   ],
   "source": [
    "plt.plot(cost_history)\n",
    "plt.xlabel(\"Iterations\")\n",
    "plt.ylabel(\"Cost\")\n",
    "plt.title('Batch Gradient Descent')\n",
    "plt.plot()"
   ]
  },
  {
   "cell_type": "markdown",
   "id": "d8481be8-d24e-4f51-a6b7-20f382125f6a",
   "metadata": {},
   "source": [
    "## Stochastic Gradient "
   ]
  },
  {
   "cell_type": "code",
   "execution_count": 10,
   "id": "c5950a86-75b5-4109-8c20-b4f9376e09a2",
   "metadata": {},
   "outputs": [],
   "source": [
    "from sklearn.linear_model import SGDRegressor\n",
    "\n",
    "sgd_reg = SGDRegressor(max_iter=100, learning_rate='constant', eta0=0.001, random_state=42)\n",
    "sgd_reg.fit(X, y)\n",
    "sgd_predictions = sgd_reg.predict(X)"
   ]
  },
  {
   "cell_type": "code",
   "execution_count": 11,
   "id": "f976cdcc-eef6-4b91-93e0-3914cc37a603",
   "metadata": {},
   "outputs": [
    {
     "name": "stdout",
     "output_type": "stream",
     "text": [
      "Optimal Parameters:\n",
      "[0.01029964] [0.52433962 0.53532415]\n"
     ]
    }
   ],
   "source": [
    "print(\"Optimal Parameters:\")\n",
    "print(sgd_reg.intercept_, end=\" \")\n",
    "print(sgd_reg.coef_)"
   ]
  },
  {
   "cell_type": "code",
   "execution_count": 12,
   "id": "631a9147-1009-4e32-99fc-688496cb52ca",
   "metadata": {},
   "outputs": [
    {
     "name": "stdout",
     "output_type": "stream",
     "text": [
      "Linear Model RMSE:  0.5962404051756015\n",
      "Batch Graadient Descent RMSE:  0.6124930733577119\n",
      "Stochastic Graadient Descent RMSE:  0.9289628215209289\n"
     ]
    }
   ],
   "source": [
    "lin_model_rmse = np.sqrt(mean_squared_error(y, lin_mod_predictions))\n",
    "batch_rmse = np.sqrt(mean_squared_error(y, batch_predictions))\n",
    "sgd_rmse = np.sqrt(mean_squared_error(y, sgd_predictions))\n",
    "\n",
    "print(\"Linear Model RMSE: \", lin_model_rmse)\n",
    "print(\"Batch Graadient Descent RMSE: \", batch_rmse)\n",
    "print(\"Stochastic Graadient Descent RMSE: \", sgd_rmse)"
   ]
  },
  {
   "cell_type": "markdown",
   "id": "7586e26c-61b4-429e-a2cb-c8e6059ca76a",
   "metadata": {},
   "source": [
    "## Mini-Batch Gradient Descent"
   ]
  },
  {
   "cell_type": "code",
   "execution_count": 13,
   "id": "87db116e-f5e5-497b-a012-61eb8f8840dc",
   "metadata": {},
   "outputs": [
    {
     "name": "stdout",
     "output_type": "stream",
     "text": [
      "Iteration 0, Cost: 0.8546330459916341\n",
      "Iteration 50, Cost: 0.4809949084067276\n",
      "Iteration 100, Cost: 0.18104332376716525\n",
      "Iteration 150, Cost: 0.4782753597217878\n",
      "Iteration 200, Cost: 0.48698067178639254\n",
      "Iteration 250, Cost: 0.4121969548187237\n",
      "Iteration 300, Cost: 0.48724029705954547\n",
      "Iteration 350, Cost: 0.5347795457684665\n",
      "Iteration 400, Cost: 0.14081449787789854\n",
      "Iteration 450, Cost: 0.24130879268400382\n",
      "Iteration 500, Cost: 0.4498654923735789\n",
      "Iteration 550, Cost: 0.30523404896301065\n",
      "Iteration 600, Cost: 0.18653753433945483\n",
      "Iteration 650, Cost: 0.17079210436649678\n",
      "Iteration 700, Cost: 0.016510186935580526\n",
      "Iteration 750, Cost: 0.024168026116118582\n",
      "Iteration 800, Cost: 0.13127470630118956\n",
      "Iteration 850, Cost: 0.009765740404641603\n",
      "Iteration 900, Cost: 0.1788172058365613\n",
      "Iteration 950, Cost: 0.5430831114690172\n",
      "\n",
      "Optimized Weights: [[0.789135  ]\n",
      " [0.32771976]]\n",
      "Optimized Bias: [-0.64853107]\n",
      "\n",
      "Predictions:\n",
      " [[ 1.14270603]\n",
      " [ 4.03999365]\n",
      " [ 5.00195256]\n",
      " [ 8.99488765]\n",
      " [ 9.53821051]\n",
      " [11.44626309]\n",
      " [13.76222173]\n",
      " [14.88654433]\n",
      " [17.96944419]\n",
      " [19.72003573]]\n"
     ]
    }
   ],
   "source": [
    "import numpy as np\n",
    "\n",
    "def mini_batch_gradient_descent(X, y, learning_rate=0.01, num_iterations=1000, batch_size=32):\n",
    "    # Initialize model parameters (weights and bias) with random values\n",
    "    y = y.reshape(-1, 1)\n",
    "    num_features = X.shape[1]\n",
    "    m = X.shape[0]\n",
    "\n",
    "    np.random.seed(0)\n",
    "    weights = np.random.rand(num_features, 1)\n",
    "    bias = np.random.rand(1)\n",
    "    \n",
    "    # History to store cost values over iterations\n",
    "    cost_history = []\n",
    "    \n",
    "    # Mini-Batch Gradient Descent\n",
    "    for iteration in range(num_iterations):\n",
    "        # Shuffle the data\n",
    "        indices = np.random.permutation(m)\n",
    "        X_shuffled = X[indices]\n",
    "        y_shuffled = y[indices]\n",
    "        \n",
    "        # Process each mini-batch\n",
    "        for start in range(0, m, batch_size):\n",
    "            end = start + batch_size\n",
    "            X_batch = X_shuffled[start:end]\n",
    "            y_batch = y_shuffled[start:end]\n",
    "            \n",
    "            # Predictions and cost\n",
    "            predictions = np.dot(X_batch, weights) + bias\n",
    "            mse_cost = np.mean((predictions - y_batch)**2) / (2 * len(y_batch))\n",
    "            \n",
    "            # Gradients\n",
    "            gradient_weights = (1 / len(y_batch)) * np.dot(X_batch.T, (predictions - y_batch))\n",
    "            gradient_bias = (1 / len(y_batch)) * np.sum(predictions - y_batch)\n",
    "            \n",
    "            # Update weights and bias\n",
    "            weights -= learning_rate * gradient_weights\n",
    "            bias -= learning_rate * gradient_bias\n",
    "        \n",
    "        # Store the cost for this iteration\n",
    "        cost_history.append(mse_cost)\n",
    "        \n",
    "        # Print the cost every 100 iterations\n",
    "        if iteration % 50 == 0:\n",
    "            print(f\"Iteration {iteration}, Cost: {mse_cost}\")\n",
    "    \n",
    "    return weights, bias, cost_history\n",
    "\n",
    "def mini_batch_predict(X, w, b):\n",
    "    predictions = np.dot(X, w) + b\n",
    "    return predictions\n",
    "\n",
    "learning_rate = 0.001\n",
    "num_iterations = 1000\n",
    "batch_size = 2\n",
    "\n",
    "opt_weights, opt_bias, cost_history = mini_batch_gradient_descent(\n",
    "    X, y, learning_rate=learning_rate, num_iterations=num_iterations, batch_size=batch_size\n",
    ")\n",
    "\n",
    "print(\"\\nOptimized Weights:\", opt_weights)\n",
    "print(\"Optimized Bias:\", opt_bias)\n",
    "\n",
    "mini_batch_predictions = mini_batch_predict(X, opt_weights, opt_bias)\n",
    "print(\"\\nPredictions:\\n\", mini_batch_predictions)"
   ]
  },
  {
   "cell_type": "code",
   "execution_count": 14,
   "id": "4b17fd29-4d54-4a6a-bba0-83e22a79c43a",
   "metadata": {},
   "outputs": [
    {
     "data": {
      "text/plain": [
       "[]"
      ]
     },
     "execution_count": 14,
     "metadata": {},
     "output_type": "execute_result"
    },
    {
     "data": {
      "image/png": "[encoded data removed]",
      "text/plain": [
       "<Figure size 640x480 with 1 Axes>"
      ]
     },
     "metadata": {},
     "output_type": "display_data"
    }
   ],
   "source": [
    "plt.plot(cost_history)\n",
    "plt.xlabel(\"Iterations\")\n",
    "plt.ylabel(\"Cost\")\n",
    "plt.title(\"Mini-Batch Gradient Descent\")\n",
    "plt.plot()"
   ]
  },
  {
   "cell_type": "code",
   "execution_count": 15,
   "id": "703bc6e0-7cb7-42b8-ba05-43251d308d34",
   "metadata": {},
   "outputs": [
    {
     "name": "stdout",
     "output_type": "stream",
     "text": [
      "Linear Model RMSE:  0.5962404051756015\n",
      "Batch Graadient Descent RMSE:  0.6124930733577119\n",
      "Stochastic Graadient Descent RMSE:  0.9289628215209289\n",
      "Mini-Batch Graadient Descent RMSE:  0.6783438018673712\n"
     ]
    }
   ],
   "source": [
    "lin_model_rmse = np.sqrt(mean_squared_error(y, lin_mod_predictions))\n",
    "batch_rmse = np.sqrt(mean_squared_error(y, batch_predictions))\n",
    "sgd_rmse = np.sqrt(mean_squared_error(y, sgd_predictions))\n",
    "mini_batch_rmse = np.sqrt(mean_squared_error(y, mini_batch_predictions))\n",
    "\n",
    "print(\"Linear Model RMSE: \", lin_model_rmse)\n",
    "print(\"Batch Graadient Descent RMSE: \", batch_rmse)\n",
    "print(\"Stochastic Graadient Descent RMSE: \", sgd_rmse)\n",
    "print(\"Mini-Batch Graadient Descent RMSE: \", mini_batch_rmse)"
   ]
  },
  {
   "cell_type": "code",
   "execution_count": null,
   "id": "beed3e6c-e8d7-4279-8cee-5f71f179e334",
   "metadata": {},
   "outputs": [],
   "source": []
  },
  {
   "cell_type": "markdown",
   "id": "20ba4154-a71d-4998-a850-509f7eb41d7d",
   "metadata": {},
   "source": [
    "# Student Performance Prediction"
   ]
  },
  {
   "cell_type": "code",
   "execution_count": 16,
   "id": "65b87468-b0bf-4bc4-a0d6-30e4fa51f3be",
   "metadata": {},
   "outputs": [
    {
     "name": "stdout",
     "output_type": "stream",
     "text": [
      "(10000, 6)\n"
     ]
    },
    {
     "data": {
      "text/html": [
       "<div>\n",
       "<style scoped>\n",
       "    .dataframe tbody tr th:only-of-type {\n",
       "        vertical-align: middle;\n",
       "    }\n",
       "\n",
       "    .dataframe tbody tr th {\n",
       "        vertical-align: top;\n",
       "    }\n",
       "\n",
       "    .dataframe thead th {\n",
       "        text-align: right;\n",
       "    }\n",
       "</style>\n",
       "<table border=\"1\" class=\"dataframe\">\n",
       "  <thead>\n",
       "    <tr style=\"text-align: right;\">\n",
       "      <th></th>\n",
       "      <th>Hours Studied</th>\n",
       "      <th>Previous Scores</th>\n",
       "      <th>Extracurricular Activities</th>\n",
       "      <th>Sleep Hours</th>\n",
       "      <th>Sample Question Papers Practiced</th>\n",
       "      <th>Performance Index</th>\n",
       "    </tr>\n",
       "  </thead>\n",
       "  <tbody>\n",
       "    <tr>\n",
       "      <th>0</th>\n",
       "      <td>7</td>\n",
       "      <td>99</td>\n",
       "      <td>Yes</td>\n",
       "      <td>9</td>\n",
       "      <td>1</td>\n",
       "      <td>91.0</td>\n",
       "    </tr>\n",
       "    <tr>\n",
       "      <th>1</th>\n",
       "      <td>4</td>\n",
       "      <td>82</td>\n",
       "      <td>No</td>\n",
       "      <td>4</td>\n",
       "      <td>2</td>\n",
       "      <td>65.0</td>\n",
       "    </tr>\n",
       "    <tr>\n",
       "      <th>2</th>\n",
       "      <td>8</td>\n",
       "      <td>51</td>\n",
       "      <td>Yes</td>\n",
       "      <td>7</td>\n",
       "      <td>2</td>\n",
       "      <td>45.0</td>\n",
       "    </tr>\n",
       "    <tr>\n",
       "      <th>3</th>\n",
       "      <td>5</td>\n",
       "      <td>52</td>\n",
       "      <td>Yes</td>\n",
       "      <td>5</td>\n",
       "      <td>2</td>\n",
       "      <td>36.0</td>\n",
       "    </tr>\n",
       "    <tr>\n",
       "      <th>4</th>\n",
       "      <td>7</td>\n",
       "      <td>75</td>\n",
       "      <td>No</td>\n",
       "      <td>8</td>\n",
       "      <td>5</td>\n",
       "      <td>66.0</td>\n",
       "    </tr>\n",
       "  </tbody>\n",
       "</table>\n",
       "</div>"
      ],
      "text/plain": [
       "   Hours Studied  Previous Scores Extracurricular Activities  Sleep Hours  \\\n",
       "0              7               99                        Yes            9   \n",
       "1              4               82                         No            4   \n",
       "2              8               51                        Yes            7   \n",
       "3              5               52                        Yes            5   \n",
       "4              7               75                         No            8   \n",
       "\n",
       "   Sample Question Papers Practiced  Performance Index  \n",
       "0                                 1               91.0  \n",
       "1                                 2               65.0  \n",
       "2                                 2               45.0  \n",
       "3                                 2               36.0  \n",
       "4                                 5               66.0  "
      ]
     },
     "execution_count": 16,
     "metadata": {},
     "output_type": "execute_result"
    }
   ],
   "source": [
    "import pandas as pd\n",
    "data = pd.read_csv('Student_Performance.csv')\n",
    "print(data.shape)\n",
    "data.head()"
   ]
  },
  {
   "cell_type": "code",
   "execution_count": 17,
   "id": "14992799-8cbe-4b74-8d36-7543031b4436",
   "metadata": {},
   "outputs": [
    {
     "name": "stdout",
     "output_type": "stream",
     "text": [
      "<class 'pandas.core.frame.DataFrame'>\n",
      "RangeIndex: 10000 entries, 0 to 9999\n",
      "Data columns (total 6 columns):\n",
      " #   Column                            Non-Null Count  Dtype  \n",
      "---  ------                            --------------  -----  \n",
      " 0   Hours Studied                     10000 non-null  int64  \n",
      " 1   Previous Scores                   10000 non-null  int64  \n",
      " 2   Extracurricular Activities        10000 non-null  object \n",
      " 3   Sleep Hours                       10000 non-null  int64  \n",
      " 4   Sample Question Papers Practiced  10000 non-null  int64  \n",
      " 5   Performance Index                 10000 non-null  float64\n",
      "dtypes: float64(1), int64(4), object(1)\n",
      "memory usage: 468.9+ KB\n"
     ]
    }
   ],
   "source": [
    "data.info()"
   ]
  },
  {
   "cell_type": "code",
   "execution_count": 18,
   "id": "db211716-6314-478d-800a-180f5c44f7d4",
   "metadata": {},
   "outputs": [
    {
     "data": {
      "text/html": [
       "<div>\n",
       "<style scoped>\n",
       "    .dataframe tbody tr th:only-of-type {\n",
       "        vertical-align: middle;\n",
       "    }\n",
       "\n",
       "    .dataframe tbody tr th {\n",
       "        vertical-align: top;\n",
       "    }\n",
       "\n",
       "    .dataframe thead th {\n",
       "        text-align: right;\n",
       "    }\n",
       "</style>\n",
       "<table border=\"1\" class=\"dataframe\">\n",
       "  <thead>\n",
       "    <tr style=\"text-align: right;\">\n",
       "      <th></th>\n",
       "      <th>Hours Studied</th>\n",
       "      <th>Previous Scores</th>\n",
       "      <th>Sleep Hours</th>\n",
       "      <th>Sample Question Papers Practiced</th>\n",
       "      <th>Performance Index</th>\n",
       "    </tr>\n",
       "  </thead>\n",
       "  <tbody>\n",
       "    <tr>\n",
       "      <th>count</th>\n",
       "      <td>10000.000000</td>\n",
       "      <td>10000.000000</td>\n",
       "      <td>10000.000000</td>\n",
       "      <td>10000.000000</td>\n",
       "      <td>10000.000000</td>\n",
       "    </tr>\n",
       "    <tr>\n",
       "      <th>mean</th>\n",
       "      <td>4.992900</td>\n",
       "      <td>69.445700</td>\n",
       "      <td>6.530600</td>\n",
       "      <td>4.583300</td>\n",
       "      <td>55.224800</td>\n",
       "    </tr>\n",
       "    <tr>\n",
       "      <th>std</th>\n",
       "      <td>2.589309</td>\n",
       "      <td>17.343152</td>\n",
       "      <td>1.695863</td>\n",
       "      <td>2.867348</td>\n",
       "      <td>19.212558</td>\n",
       "    </tr>\n",
       "    <tr>\n",
       "      <th>min</th>\n",
       "      <td>1.000000</td>\n",
       "      <td>40.000000</td>\n",
       "      <td>4.000000</td>\n",
       "      <td>0.000000</td>\n",
       "      <td>10.000000</td>\n",
       "    </tr>\n",
       "    <tr>\n",
       "      <th>25%</th>\n",
       "      <td>3.000000</td>\n",
       "      <td>54.000000</td>\n",
       "      <td>5.000000</td>\n",
       "      <td>2.000000</td>\n",
       "      <td>40.000000</td>\n",
       "    </tr>\n",
       "    <tr>\n",
       "      <th>50%</th>\n",
       "      <td>5.000000</td>\n",
       "      <td>69.000000</td>\n",
       "      <td>7.000000</td>\n",
       "      <td>5.000000</td>\n",
       "      <td>55.000000</td>\n",
       "    </tr>\n",
       "    <tr>\n",
       "      <th>75%</th>\n",
       "      <td>7.000000</td>\n",
       "      <td>85.000000</td>\n",
       "      <td>8.000000</td>\n",
       "      <td>7.000000</td>\n",
       "      <td>71.000000</td>\n",
       "    </tr>\n",
       "    <tr>\n",
       "      <th>max</th>\n",
       "      <td>9.000000</td>\n",
       "      <td>99.000000</td>\n",
       "      <td>9.000000</td>\n",
       "      <td>9.000000</td>\n",
       "      <td>100.000000</td>\n",
       "    </tr>\n",
       "  </tbody>\n",
       "</table>\n",
       "</div>"
      ],
      "text/plain": [
       "       Hours Studied  Previous Scores   Sleep Hours  \\\n",
       "count   10000.000000     10000.000000  10000.000000   \n",
       "mean        4.992900        69.445700      6.530600   \n",
       "std         2.589309        17.343152      1.695863   \n",
       "min         1.000000        40.000000      4.000000   \n",
       "25%         3.000000        54.000000      5.000000   \n",
       "50%         5.000000        69.000000      7.000000   \n",
       "75%         7.000000        85.000000      8.000000   \n",
       "max         9.000000        99.000000      9.000000   \n",
       "\n",
       "       Sample Question Papers Practiced  Performance Index  \n",
       "count                      10000.000000       10000.000000  \n",
       "mean                           4.583300          55.224800  \n",
       "std                            2.867348          19.212558  \n",
       "min                            0.000000          10.000000  \n",
       "25%                            2.000000          40.000000  \n",
       "50%                            5.000000          55.000000  \n",
       "75%                            7.000000          71.000000  \n",
       "max                            9.000000         100.000000  "
      ]
     },
     "execution_count": 18,
     "metadata": {},
     "output_type": "execute_result"
    }
   ],
   "source": [
    "data.describe()"
   ]
  },
  {
   "cell_type": "code",
   "execution_count": 19,
   "id": "8a065e00-cd13-43d5-bd96-26da686caa59",
   "metadata": {},
   "outputs": [
    {
     "data": {
      "text/html": [
       "<div>\n",
       "<style scoped>\n",
       "    .dataframe tbody tr th:only-of-type {\n",
       "        vertical-align: middle;\n",
       "    }\n",
       "\n",
       "    .dataframe tbody tr th {\n",
       "        vertical-align: top;\n",
       "    }\n",
       "\n",
       "    .dataframe thead th {\n",
       "        text-align: right;\n",
       "    }\n",
       "</style>\n",
       "<table border=\"1\" class=\"dataframe\">\n",
       "  <thead>\n",
       "    <tr style=\"text-align: right;\">\n",
       "      <th></th>\n",
       "      <th>Hours Studied</th>\n",
       "      <th>Previous Scores</th>\n",
       "      <th>Sleep Hours</th>\n",
       "      <th>Sample Question Papers Practiced</th>\n",
       "      <th>Performance Index</th>\n",
       "    </tr>\n",
       "  </thead>\n",
       "  <tbody>\n",
       "    <tr>\n",
       "      <th>Hours Studied</th>\n",
       "      <td>1.000000</td>\n",
       "      <td>-0.012390</td>\n",
       "      <td>0.001245</td>\n",
       "      <td>0.017463</td>\n",
       "      <td>0.373730</td>\n",
       "    </tr>\n",
       "    <tr>\n",
       "      <th>Previous Scores</th>\n",
       "      <td>-0.012390</td>\n",
       "      <td>1.000000</td>\n",
       "      <td>0.005944</td>\n",
       "      <td>0.007888</td>\n",
       "      <td>0.915189</td>\n",
       "    </tr>\n",
       "    <tr>\n",
       "      <th>Sleep Hours</th>\n",
       "      <td>0.001245</td>\n",
       "      <td>0.005944</td>\n",
       "      <td>1.000000</td>\n",
       "      <td>0.003990</td>\n",
       "      <td>0.048106</td>\n",
       "    </tr>\n",
       "    <tr>\n",
       "      <th>Sample Question Papers Practiced</th>\n",
       "      <td>0.017463</td>\n",
       "      <td>0.007888</td>\n",
       "      <td>0.003990</td>\n",
       "      <td>1.000000</td>\n",
       "      <td>0.043268</td>\n",
       "    </tr>\n",
       "    <tr>\n",
       "      <th>Performance Index</th>\n",
       "      <td>0.373730</td>\n",
       "      <td>0.915189</td>\n",
       "      <td>0.048106</td>\n",
       "      <td>0.043268</td>\n",
       "      <td>1.000000</td>\n",
       "    </tr>\n",
       "  </tbody>\n",
       "</table>\n",
       "</div>"
      ],
      "text/plain": [
       "                                  Hours Studied  Previous Scores  Sleep Hours  \\\n",
       "Hours Studied                          1.000000        -0.012390     0.001245   \n",
       "Previous Scores                       -0.012390         1.000000     0.005944   \n",
       "Sleep Hours                            0.001245         0.005944     1.000000   \n",
       "Sample Question Papers Practiced       0.017463         0.007888     0.003990   \n",
       "Performance Index                      0.373730         0.915189     0.048106   \n",
       "\n",
       "                                  Sample Question Papers Practiced  \\\n",
       "Hours Studied                                             0.017463   \n",
       "Previous Scores                                           0.007888   \n",
       "Sleep Hours                                               0.003990   \n",
       "Sample Question Papers Practiced                          1.000000   \n",
       "Performance Index                                         0.043268   \n",
       "\n",
       "                                  Performance Index  \n",
       "Hours Studied                              0.373730  \n",
       "Previous Scores                            0.915189  \n",
       "Sleep Hours                                0.048106  \n",
       "Sample Question Papers Practiced           0.043268  \n",
       "Performance Index                          1.000000  "
      ]
     },
     "execution_count": 19,
     "metadata": {},
     "output_type": "execute_result"
    }
   ],
   "source": [
    "data.corr(numeric_only=True)"
   ]
  },
  {
   "cell_type": "code",
   "execution_count": 20,
   "id": "e7e1219f-cd3e-458d-918b-967c47002671",
   "metadata": {},
   "outputs": [
    {
     "data": {
      "image/png": "[encoded data removed]",
      "text/plain": [
       "<Figure size 1000x600 with 6 Axes>"
      ]
     },
     "metadata": {},
     "output_type": "display_data"
    }
   ],
   "source": [
    "data.hist(bins=20, figsize=(10, 6))\n",
    "plt.show()"
   ]
  },
  {
   "cell_type": "code",
   "execution_count": 21,
   "id": "5e46d71e-ca56-493f-8d10-fb602e6b0796",
   "metadata": {},
   "outputs": [
    {
     "data": {
      "text/html": [
       "<div>\n",
       "<style scoped>\n",
       "    .dataframe tbody tr th:only-of-type {\n",
       "        vertical-align: middle;\n",
       "    }\n",
       "\n",
       "    .dataframe tbody tr th {\n",
       "        vertical-align: top;\n",
       "    }\n",
       "\n",
       "    .dataframe thead th {\n",
       "        text-align: right;\n",
       "    }\n",
       "</style>\n",
       "<table border=\"1\" class=\"dataframe\">\n",
       "  <thead>\n",
       "    <tr style=\"text-align: right;\">\n",
       "      <th></th>\n",
       "      <th>Extracurricular Activities</th>\n",
       "    </tr>\n",
       "  </thead>\n",
       "  <tbody>\n",
       "    <tr>\n",
       "      <th>0</th>\n",
       "      <td>Yes</td>\n",
       "    </tr>\n",
       "    <tr>\n",
       "      <th>1</th>\n",
       "      <td>No</td>\n",
       "    </tr>\n",
       "    <tr>\n",
       "      <th>2</th>\n",
       "      <td>Yes</td>\n",
       "    </tr>\n",
       "    <tr>\n",
       "      <th>3</th>\n",
       "      <td>Yes</td>\n",
       "    </tr>\n",
       "    <tr>\n",
       "      <th>4</th>\n",
       "      <td>No</td>\n",
       "    </tr>\n",
       "  </tbody>\n",
       "</table>\n",
       "</div>"
      ],
      "text/plain": [
       "  Extracurricular Activities\n",
       "0                        Yes\n",
       "1                         No\n",
       "2                        Yes\n",
       "3                        Yes\n",
       "4                         No"
      ]
     },
     "execution_count": 21,
     "metadata": {},
     "output_type": "execute_result"
    }
   ],
   "source": [
    "data[['Extracurricular Activities']].head()"
   ]
  },
  {
   "cell_type": "code",
   "execution_count": null,
   "id": "281baa50-7d50-41ea-a14f-36548c14dcd1",
   "metadata": {},
   "outputs": [],
   "source": []
  },
  {
   "cell_type": "code",
   "execution_count": 22,
   "id": "4995dd11-1b06-4008-9e8d-01216d357582",
   "metadata": {},
   "outputs": [
    {
     "data": {
      "text/html": [
       "<div>\n",
       "<style scoped>\n",
       "    .dataframe tbody tr th:only-of-type {\n",
       "        vertical-align: middle;\n",
       "    }\n",
       "\n",
       "    .dataframe tbody tr th {\n",
       "        vertical-align: top;\n",
       "    }\n",
       "\n",
       "    .dataframe thead th {\n",
       "        text-align: right;\n",
       "    }\n",
       "</style>\n",
       "<table border=\"1\" class=\"dataframe\">\n",
       "  <thead>\n",
       "    <tr style=\"text-align: right;\">\n",
       "      <th></th>\n",
       "      <th>Extracurricular Activities_No</th>\n",
       "      <th>Extracurricular Activities_Yes</th>\n",
       "    </tr>\n",
       "  </thead>\n",
       "  <tbody>\n",
       "    <tr>\n",
       "      <th>0</th>\n",
       "      <td>0.0</td>\n",
       "      <td>1.0</td>\n",
       "    </tr>\n",
       "    <tr>\n",
       "      <th>1</th>\n",
       "      <td>1.0</td>\n",
       "      <td>0.0</td>\n",
       "    </tr>\n",
       "    <tr>\n",
       "      <th>2</th>\n",
       "      <td>0.0</td>\n",
       "      <td>1.0</td>\n",
       "    </tr>\n",
       "    <tr>\n",
       "      <th>3</th>\n",
       "      <td>0.0</td>\n",
       "      <td>1.0</td>\n",
       "    </tr>\n",
       "    <tr>\n",
       "      <th>4</th>\n",
       "      <td>1.0</td>\n",
       "      <td>0.0</td>\n",
       "    </tr>\n",
       "  </tbody>\n",
       "</table>\n",
       "</div>"
      ],
      "text/plain": [
       "   Extracurricular Activities_No  Extracurricular Activities_Yes\n",
       "0                            0.0                             1.0\n",
       "1                            1.0                             0.0\n",
       "2                            0.0                             1.0\n",
       "3                            0.0                             1.0\n",
       "4                            1.0                             0.0"
      ]
     },
     "execution_count": 22,
     "metadata": {},
     "output_type": "execute_result"
    }
   ],
   "source": [
    "from sklearn.preprocessing import OneHotEncoder\n",
    "\n",
    "encoder = OneHotEncoder(sparse_output=False)\n",
    "data_tr = encoder.fit_transform(data[['Extracurricular Activities']])\n",
    "\n",
    "cat_data_encoded = pd.DataFrame(data_tr, columns=encoder.get_feature_names_out(), index=data.index)\n",
    "cat_data_encoded.head()"
   ]
  },
  {
   "cell_type": "code",
   "execution_count": 23,
   "id": "ec3bbce9-1ffa-4b72-8fd4-1cea92f54c63",
   "metadata": {},
   "outputs": [
    {
     "data": {
      "text/html": [
       "<div>\n",
       "<style scoped>\n",
       "    .dataframe tbody tr th:only-of-type {\n",
       "        vertical-align: middle;\n",
       "    }\n",
       "\n",
       "    .dataframe tbody tr th {\n",
       "        vertical-align: top;\n",
       "    }\n",
       "\n",
       "    .dataframe thead th {\n",
       "        text-align: right;\n",
       "    }\n",
       "</style>\n",
       "<table border=\"1\" class=\"dataframe\">\n",
       "  <thead>\n",
       "    <tr style=\"text-align: right;\">\n",
       "      <th></th>\n",
       "      <th>Hours Studied</th>\n",
       "      <th>Previous Scores</th>\n",
       "      <th>Sleep Hours</th>\n",
       "      <th>Sample Question Papers Practiced</th>\n",
       "      <th>Performance Index</th>\n",
       "      <th>Extracurricular Activities_No</th>\n",
       "      <th>Extracurricular Activities_Yes</th>\n",
       "    </tr>\n",
       "  </thead>\n",
       "  <tbody>\n",
       "    <tr>\n",
       "      <th>0</th>\n",
       "      <td>7</td>\n",
       "      <td>99</td>\n",
       "      <td>9</td>\n",
       "      <td>1</td>\n",
       "      <td>91.0</td>\n",
       "      <td>0.0</td>\n",
       "      <td>1.0</td>\n",
       "    </tr>\n",
       "    <tr>\n",
       "      <th>1</th>\n",
       "      <td>4</td>\n",
       "      <td>82</td>\n",
       "      <td>4</td>\n",
       "      <td>2</td>\n",
       "      <td>65.0</td>\n",
       "      <td>1.0</td>\n",
       "      <td>0.0</td>\n",
       "    </tr>\n",
       "    <tr>\n",
       "      <th>2</th>\n",
       "      <td>8</td>\n",
       "      <td>51</td>\n",
       "      <td>7</td>\n",
       "      <td>2</td>\n",
       "      <td>45.0</td>\n",
       "      <td>0.0</td>\n",
       "      <td>1.0</td>\n",
       "    </tr>\n",
       "    <tr>\n",
       "      <th>3</th>\n",
       "      <td>5</td>\n",
       "      <td>52</td>\n",
       "      <td>5</td>\n",
       "      <td>2</td>\n",
       "      <td>36.0</td>\n",
       "      <td>0.0</td>\n",
       "      <td>1.0</td>\n",
       "    </tr>\n",
       "    <tr>\n",
       "      <th>4</th>\n",
       "      <td>7</td>\n",
       "      <td>75</td>\n",
       "      <td>8</td>\n",
       "      <td>5</td>\n",
       "      <td>66.0</td>\n",
       "      <td>1.0</td>\n",
       "      <td>0.0</td>\n",
       "    </tr>\n",
       "  </tbody>\n",
       "</table>\n",
       "</div>"
      ],
      "text/plain": [
       "   Hours Studied  Previous Scores  Sleep Hours  \\\n",
       "0              7               99            9   \n",
       "1              4               82            4   \n",
       "2              8               51            7   \n",
       "3              5               52            5   \n",
       "4              7               75            8   \n",
       "\n",
       "   Sample Question Papers Practiced  Performance Index  \\\n",
       "0                                 1               91.0   \n",
       "1                                 2               65.0   \n",
       "2                                 2               45.0   \n",
       "3                                 2               36.0   \n",
       "4                                 5               66.0   \n",
       "\n",
       "   Extracurricular Activities_No  Extracurricular Activities_Yes  \n",
       "0                            0.0                             1.0  \n",
       "1                            1.0                             0.0  \n",
       "2                            0.0                             1.0  \n",
       "3                            0.0                             1.0  \n",
       "4                            1.0                             0.0  "
      ]
     },
     "execution_count": 23,
     "metadata": {},
     "output_type": "execute_result"
    }
   ],
   "source": [
    "stu_data_prep = pd.concat([data.drop('Extracurricular Activities', axis=1), cat_data_encoded], axis=1)\n",
    "stu_data_prep.head()"
   ]
  },
  {
   "cell_type": "code",
   "execution_count": 24,
   "id": "d01752a7-ad40-4255-8cb6-b44980792b88",
   "metadata": {},
   "outputs": [
    {
     "name": "stdout",
     "output_type": "stream",
     "text": [
      "(8000, 7)\n",
      "(2000, 7)\n"
     ]
    }
   ],
   "source": [
    "from sklearn.model_selection import train_test_split\n",
    "train_set, test_set = train_test_split(stu_data_prep, test_size=0.2, random_state=42)\n",
    "\n",
    "print(train_set.shape)\n",
    "print(test_set.shape)"
   ]
  },
  {
   "cell_type": "code",
   "execution_count": 25,
   "id": "55956369-8014-4e0d-a04b-146ab1c420c0",
   "metadata": {},
   "outputs": [
    {
     "name": "stdout",
     "output_type": "stream",
     "text": [
      "(8000, 6)\n",
      "(8000, 1)\n",
      "(2000, 6)\n",
      "(2000, 1)\n"
     ]
    }
   ],
   "source": [
    "X_train = train_set.drop(['Performance Index'], axis=1)\n",
    "y_train = train_set[['Performance Index']]\n",
    "X_test = test_set.drop(['Performance Index'], axis=1)\n",
    "y_test = test_set[['Performance Index']]\n",
    "\n",
    "\n",
    "print(X_train.shape)\n",
    "print(y_train.shape)\n",
    "print(X_test.shape)\n",
    "print(y_test.shape)"
   ]
  },
  {
   "cell_type": "code",
   "execution_count": 26,
   "id": "23df267c-a3b1-4638-bb2d-51227b56e642",
   "metadata": {},
   "outputs": [],
   "source": [
    "from sklearn.preprocessing import StandardScaler\n",
    "\n",
    "# Create and fit scaler on training data\n",
    "scaler = StandardScaler()\n",
    "X_train_scaled = scaler.fit_transform(X_train)\n",
    "\n",
    "# Use the same scaler to transform test data\n",
    "X_test_scaled = scaler.transform(X_test)"
   ]
  },
  {
   "cell_type": "code",
   "execution_count": 27,
   "id": "34fd67cc-fbcf-46f6-a402-2c1f03e94219",
   "metadata": {},
   "outputs": [],
   "source": [
    "X_train_arr = np.array(X_train_scaled)\n",
    "y_train_arr = np.array(y_train)\n",
    "\n",
    "X_test_arr = np.array(X_test_scaled)\n",
    "y_test_arr = np.array(y_test)"
   ]
  },
  {
   "cell_type": "markdown",
   "id": "04e693ec-2300-4dcf-b28c-66b90542adcc",
   "metadata": {},
   "source": [
    "# Training Errors"
   ]
  },
  {
   "cell_type": "markdown",
   "id": "0751ecff-88ce-4213-87c5-a7a85f8b42fa",
   "metadata": {},
   "source": [
    "## `Linear Model - Normal Equation`"
   ]
  },
  {
   "cell_type": "code",
   "execution_count": 43,
   "id": "c4271003-8bff-42c7-85ca-e0abc1febcc1",
   "metadata": {},
   "outputs": [
    {
     "name": "stdout",
     "output_type": "stream",
     "text": [
      "R-squared (R²): 0.9886889671941134\n",
      "RMSE:  2.04\n"
     ]
    }
   ],
   "source": [
    "from sklearn.metrics import r2_score\n",
    "\n",
    "lin_model = LinearRegression()\n",
    "lin_model.fit(X_train_arr, y_train_arr)\n",
    "\n",
    "lin_pred = lin_model.predict(X_train_arr)\n",
    "lin_rmse = np.sqrt(mean_squared_error(y_train, lin_pred))\n",
    "\n",
    "lin_r2 = r2_score(y_train, lin_pred)\n",
    "\n",
    "print(\"R-squared (R²):\", lin_r2)\n",
    "print(\"RMSE: \", lin_rmse.round(2))"
   ]
  },
  {
   "cell_type": "markdown",
   "id": "d629591e-4cb8-42d0-8a3d-34989995d733",
   "metadata": {},
   "source": [
    "## `Batch Gradient Descent`"
   ]
  },
  {
   "cell_type": "code",
   "execution_count": 45,
   "id": "57a94ff9-37eb-4577-bb01-b41ab463b79f",
   "metadata": {},
   "outputs": [
    {
     "name": "stdout",
     "output_type": "stream",
     "text": [
      "Iteration 0, Cost: 0.2091370194471744\n",
      "Iteration 50, Cost: 0.0767720132513798\n",
      "Iteration 100, Cost: 0.028287870569262973\n",
      "Iteration 150, Cost: 0.010527802008269265\n",
      "Iteration 200, Cost: 0.004021918795053759\n",
      "Iteration 250, Cost: 0.0016385888441049236\n",
      "Iteration 300, Cost: 0.000765459886735882\n",
      "Iteration 350, Cost: 0.00044557838519296956\n",
      "Iteration 400, Cost: 0.0003283813466071687\n",
      "Iteration 450, Cost: 0.0002854414277156527\n",
      "Iteration 500, Cost: 0.00026970800618022903\n",
      "Iteration 550, Cost: 0.0002639429594726582\n",
      "Iteration 600, Cost: 0.0002618304410823486\n",
      "Iteration 650, Cost: 0.0002610563064201347\n",
      "Iteration 700, Cost: 0.0002607726117258281\n",
      "Iteration 750, Cost: 0.0002606686424682248\n",
      "Iteration 800, Cost: 0.000260630537811573\n",
      "Iteration 850, Cost: 0.000260616571848115\n",
      "Iteration 900, Cost: 0.00026061145286314754\n",
      "Iteration 950, Cost: 0.00026060957649832014\n",
      "\n",
      "R-squared (R²) 0.9886898617916502\n",
      "RMSE:  2.04\n"
     ]
    }
   ],
   "source": [
    "w_batch, b_batch, history = batch_gradient_descent(X_train_scaled, y_train_arr, learning_rate=0.01, num_iterations=1000)\n",
    "batch_pred = batch_predict(X_train_scaled, w_batch, b_batch)\n",
    "batch_rmse = np.sqrt(mean_squared_error(batch_pred, y_train))\n",
    "\n",
    "batch_r2 = r2_score(y_train, batch_pred)\n",
    "\n",
    "print()\n",
    "print(\"R-squared (R²)\", batch_r2)\n",
    "print(\"RMSE: \", batch_rmse.round(2))"
   ]
  },
  {
   "cell_type": "code",
   "execution_count": 46,
   "id": "eac5891c-9aa5-4ccf-94b2-8f036bda0597",
   "metadata": {},
   "outputs": [
    {
     "data": {
      "image/png": "[encoded data removed]",
      "text/plain": [
       "<Figure size 640x480 with 1 Axes>"
      ]
     },
     "metadata": {},
     "output_type": "display_data"
    }
   ],
   "source": [
    "plt.plot(history)\n",
    "plt.xlabel(\"Iterations\")\n",
    "plt.ylabel(\"Cost (MSE)\")\n",
    "plt.title(\"Batch GD\")\n",
    "plt.grid(True)\n",
    "plt.show()"
   ]
  },
  {
   "cell_type": "markdown",
   "id": "c0f36201-88d1-4c3b-a45f-d927a3981a4f",
   "metadata": {},
   "source": [
    "## `Mini-Batch gradient Descent`"
   ]
  },
  {
   "cell_type": "code",
   "execution_count": 56,
   "id": "4b0f662e-ee90-459f-bd40-96024ec9f486",
   "metadata": {},
   "outputs": [
    {
     "name": "stdout",
     "output_type": "stream",
     "text": [
      "Iteration 0, Cost: 1.6640136165797044\n",
      "Iteration 50, Cost: 0.7616839297448553\n",
      "Iteration 100, Cost: 0.33077701541867394\n",
      "Iteration 150, Cost: 0.15024265940841322\n",
      "Iteration 200, Cost: 0.06797735918149615\n",
      "Iteration 250, Cost: 0.031963062994186185\n",
      "Iteration 300, Cost: 0.015570705875918644\n",
      "Iteration 350, Cost: 0.008556345187891992\n",
      "Iteration 400, Cost: 0.004999186763409484\n",
      "Iteration 450, Cost: 0.0032425541460127665\n",
      "Iteration 500, Cost: 0.0024941596834961227\n",
      "Iteration 550, Cost: 0.0024331659873232346\n",
      "Iteration 600, Cost: 0.002310759352167792\n",
      "Iteration 650, Cost: 0.002080206491743738\n",
      "Iteration 700, Cost: 0.0019964119466551944\n",
      "Iteration 750, Cost: 0.0021980624532464497\n",
      "Iteration 800, Cost: 0.0020884693872509487\n",
      "Iteration 850, Cost: 0.002048138323594047\n",
      "Iteration 900, Cost: 0.0019156721105619552\n",
      "Iteration 950, Cost: 0.0021327538167960655\n",
      "\n",
      "R-squared (R²) 0.988688850480432\n",
      "2.04\n"
     ]
    }
   ],
   "source": [
    "w_mini, b_mini, history = mini_batch_gradient_descent(X_train_scaled, y_train_arr, learning_rate=0.001, num_iterations=1000, batch_size=1000)\n",
    "mini_batch_pred = mini_batch_predict(X_train_scaled, w_mini, b_mini)\n",
    "mini_batch_rmse = np.sqrt(mean_squared_error(mini_batch_pred, y_train))\n",
    "\n",
    "mini_batch_r2 = r2_score(y_train, mini_batch_pred)\n",
    "\n",
    "print()\n",
    "print(\"R-squared (R²)\", mini_batch_r2)\n",
    "print(mini_batch_rmse.round(2))"
   ]
  },
  {
   "cell_type": "code",
   "execution_count": 48,
   "id": "333488e4-3dcb-48a5-9091-5d33480ff9f9",
   "metadata": {},
   "outputs": [
    {
     "data": {
      "image/png": "[encoded data removed]",
      "text/plain": [
       "<Figure size 640x480 with 1 Axes>"
      ]
     },
     "metadata": {},
     "output_type": "display_data"
    }
   ],
   "source": [
    "plt.plot(history)\n",
    "plt.xlabel(\"Iterations\")\n",
    "plt.ylabel(\"Cost (MSE)\")\n",
    "plt.title(\"Mini-Batch GD\")\n",
    "plt.grid(True)\n",
    "plt.show()"
   ]
  },
  {
   "cell_type": "markdown",
   "id": "2f010ea3-76da-4ce1-b2cb-cf9ff6b82508",
   "metadata": {},
   "source": [
    "## `Stochastic Gradient Descent`"
   ]
  },
  {
   "cell_type": "code",
   "execution_count": 49,
   "id": "6be3fc35-d2ca-40f9-abe0-7c61b1c2dbb0",
   "metadata": {},
   "outputs": [
    {
     "name": "stdout",
     "output_type": "stream",
     "text": [
      "\n",
      "R-squared (R²) 0.983931561935486\n",
      "2.43\n"
     ]
    }
   ],
   "source": [
    "sgd = SGDRegressor(max_iter=100, learning_rate='constant', eta0=0.1, random_state=42)\n",
    "sgd.fit(X_train_scaled, y_train_arr.reshape(-1))\n",
    "sgd_pred = sgd.predict(X_train_scaled)\n",
    "sgd_rmse = np.sqrt(mean_squared_error(y_train, sgd_pred))\n",
    "\n",
    "sgd_r2 = r2_score(y_train, sgd_pred)\n",
    "\n",
    "print()\n",
    "print(\"R-squared (R²)\", sgd_r2)\n",
    "print(sgd_rmse.round(2))"
   ]
  },
  {
   "cell_type": "markdown",
   "id": "c638f613-8e51-4601-a4c1-87e54463b86b",
   "metadata": {},
   "source": [
    "## Test Errors"
   ]
  },
  {
   "cell_type": "code",
   "execution_count": 52,
   "id": "870b66eb-fb66-4a9d-a12b-09f7e2e76673",
   "metadata": {},
   "outputs": [
    {
     "name": "stdout",
     "output_type": "stream",
     "text": [
      "\n",
      "R-squared (R²) 0.9889862305650765\n",
      "RMSE:  2.02\n"
     ]
    }
   ],
   "source": [
    "lin_pred = lin_model.predict(X_test_arr)\n",
    "lin_rmse = np.sqrt(mean_squared_error(y_true=y_test_arr, y_pred=lin_pred))\n",
    "\n",
    "lin_r2 = r2_score(y_test_arr, lin_pred)\n",
    "\n",
    "print()\n",
    "print(\"R-squared (R²)\", lin_r2)\n",
    "print(\"RMSE: \", lin_rmse.round(2))"
   ]
  },
  {
   "cell_type": "code",
   "execution_count": 53,
   "id": "c86d2809-8b3f-42ef-83c7-cf3a099bd72e",
   "metadata": {},
   "outputs": [
    {
     "name": "stdout",
     "output_type": "stream",
     "text": [
      "\n",
      "R-squared (R²) 0.9889837798670725\n",
      "RMSE:  2.02\n"
     ]
    }
   ],
   "source": [
    "batch_pred = batch_predict(X_test_arr, w_batch, b_batch)\n",
    "batch_rmse = np.sqrt(mean_squared_error(y_true=y_test_arr, y_pred=batch_pred))\n",
    "\n",
    "batch_r2 = r2_score(y_test_arr, batch_pred)\n",
    "\n",
    "print()\n",
    "print(\"R-squared (R²)\", batch_r2)\n",
    "print(\"RMSE: \", batch_rmse.round(2))"
   ]
  },
  {
   "cell_type": "code",
   "execution_count": 54,
   "id": "cadc8fe8-75c7-4ab4-9983-49e18d828b92",
   "metadata": {},
   "outputs": [
    {
     "name": "stdout",
     "output_type": "stream",
     "text": [
      "\n",
      "R-squared (R²) 0.9889862134732185\n",
      "RMSE:  2.02\n"
     ]
    }
   ],
   "source": [
    "mini_batch_pred = mini_batch_predict(X_test_arr, w_mini, b_mini)\n",
    "mini_batch_rmse = np.sqrt(mean_squared_error(y_true=y_test_arr, y_pred=mini_batch_pred))\n",
    "\n",
    "mini_batch_r2 = r2_score(y_test_arr, mini_batch_pred)\n",
    "\n",
    "print()\n",
    "print(\"R-squared (R²)\", mini_batch_r2)\n",
    "print(\"RMSE: \", mini_batch_rmse.round(2))"
   ]
  },
  {
   "cell_type": "code",
   "execution_count": 57,
   "id": "35156134-e841-42e4-a226-6fe0ec915f5c",
   "metadata": {},
   "outputs": [
    {
     "name": "stdout",
     "output_type": "stream",
     "text": [
      "\n",
      "R-squared (R²) 0.9843357000748009\n",
      "RMSE:  2.41\n"
     ]
    }
   ],
   "source": [
    "sgd_pred = sgd.predict(X_test_arr)\n",
    "sgd_rmse = np.sqrt(mean_squared_error(y_true=y_test_arr, y_pred=sgd_pred))\n",
    "\n",
    "sgd_r2 = r2_score(y_test_arr, sgd_pred)\n",
    "\n",
    "print()\n",
    "print(\"R-squared (R²)\", sgd_r2)\n",
    "print(\"RMSE: \", sgd_rmse.round(2))"
   ]
  },
  {
   "cell_type": "code",
   "execution_count": null,
   "id": "9bccc0c9-73f8-4ab3-8548-5cc1ae15d9bc",
   "metadata": {},
   "outputs": [],
   "source": []
  }
 ],
 "metadata": {
  "kernelspec": {
   "display_name": "Python 3 (ipykernel)",
   "language": "python",
   "name": "python3"
  },
  "language_info": {
   "codemirror_mode": {
    "name": "ipython",
    "version": 3
   },
   "file_extension": ".py",
   "mimetype": "text/x-python",
   "name": "python",
   "nbconvert_exporter": "python",
   "pygments_lexer": "ipython3",
   "version": "3.12.4"
  }
 },
 "nbformat": 4,
 "nbformat_minor": 5
}
