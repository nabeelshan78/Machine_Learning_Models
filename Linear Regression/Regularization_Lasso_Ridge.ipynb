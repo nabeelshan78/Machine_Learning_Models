{
 "cells": [
  {
   "cell_type": "markdown",
   "id": "69689a2b-c77f-4476-be19-66c4e10643df",
   "metadata": {},
   "source": [
    "# Lasso And Ridge Regularization"
   ]
  },
  {
   "cell_type": "code",
   "execution_count": 1,
   "id": "9ca18271-7f6c-4a82-b89c-f0b92d68f91b",
   "metadata": {},
   "outputs": [
    {
     "data": {
      "text/html": [
       "<div>\n",
       "<style scoped>\n",
       "    .dataframe tbody tr th:only-of-type {\n",
       "        vertical-align: middle;\n",
       "    }\n",
       "\n",
       "    .dataframe tbody tr th {\n",
       "        vertical-align: top;\n",
       "    }\n",
       "\n",
       "    .dataframe thead th {\n",
       "        text-align: right;\n",
       "    }\n",
       "</style>\n",
       "<table border=\"1\" class=\"dataframe\">\n",
       "  <thead>\n",
       "    <tr style=\"text-align: right;\">\n",
       "      <th></th>\n",
       "      <th>Unnamed: 0</th>\n",
       "      <th>CRIM</th>\n",
       "      <th>ZN</th>\n",
       "      <th>INDUS</th>\n",
       "      <th>CHAS</th>\n",
       "      <th>NOX</th>\n",
       "      <th>RM</th>\n",
       "      <th>AGE</th>\n",
       "      <th>DIS</th>\n",
       "      <th>RAD</th>\n",
       "      <th>TAX</th>\n",
       "      <th>PTRATIO</th>\n",
       "      <th>B</th>\n",
       "      <th>LSTAT</th>\n",
       "      <th>Price</th>\n",
       "    </tr>\n",
       "  </thead>\n",
       "  <tbody>\n",
       "    <tr>\n",
       "      <th>0</th>\n",
       "      <td>0</td>\n",
       "      <td>0.00632</td>\n",
       "      <td>18.0</td>\n",
       "      <td>2.31</td>\n",
       "      <td>0.0</td>\n",
       "      <td>0.538</td>\n",
       "      <td>6.575</td>\n",
       "      <td>65.2</td>\n",
       "      <td>4.0900</td>\n",
       "      <td>1.0</td>\n",
       "      <td>296.0</td>\n",
       "      <td>15.3</td>\n",
       "      <td>396.90</td>\n",
       "      <td>4.98</td>\n",
       "      <td>24.0</td>\n",
       "    </tr>\n",
       "    <tr>\n",
       "      <th>1</th>\n",
       "      <td>1</td>\n",
       "      <td>0.02731</td>\n",
       "      <td>0.0</td>\n",
       "      <td>7.07</td>\n",
       "      <td>0.0</td>\n",
       "      <td>0.469</td>\n",
       "      <td>6.421</td>\n",
       "      <td>78.9</td>\n",
       "      <td>4.9671</td>\n",
       "      <td>2.0</td>\n",
       "      <td>242.0</td>\n",
       "      <td>17.8</td>\n",
       "      <td>396.90</td>\n",
       "      <td>9.14</td>\n",
       "      <td>21.6</td>\n",
       "    </tr>\n",
       "    <tr>\n",
       "      <th>2</th>\n",
       "      <td>2</td>\n",
       "      <td>0.02729</td>\n",
       "      <td>0.0</td>\n",
       "      <td>7.07</td>\n",
       "      <td>0.0</td>\n",
       "      <td>0.469</td>\n",
       "      <td>7.185</td>\n",
       "      <td>61.1</td>\n",
       "      <td>4.9671</td>\n",
       "      <td>2.0</td>\n",
       "      <td>242.0</td>\n",
       "      <td>17.8</td>\n",
       "      <td>392.83</td>\n",
       "      <td>4.03</td>\n",
       "      <td>34.7</td>\n",
       "    </tr>\n",
       "    <tr>\n",
       "      <th>3</th>\n",
       "      <td>3</td>\n",
       "      <td>0.03237</td>\n",
       "      <td>0.0</td>\n",
       "      <td>2.18</td>\n",
       "      <td>0.0</td>\n",
       "      <td>0.458</td>\n",
       "      <td>6.998</td>\n",
       "      <td>45.8</td>\n",
       "      <td>6.0622</td>\n",
       "      <td>3.0</td>\n",
       "      <td>222.0</td>\n",
       "      <td>18.7</td>\n",
       "      <td>394.63</td>\n",
       "      <td>2.94</td>\n",
       "      <td>33.4</td>\n",
       "    </tr>\n",
       "    <tr>\n",
       "      <th>4</th>\n",
       "      <td>4</td>\n",
       "      <td>0.06905</td>\n",
       "      <td>0.0</td>\n",
       "      <td>2.18</td>\n",
       "      <td>0.0</td>\n",
       "      <td>0.458</td>\n",
       "      <td>7.147</td>\n",
       "      <td>54.2</td>\n",
       "      <td>6.0622</td>\n",
       "      <td>3.0</td>\n",
       "      <td>222.0</td>\n",
       "      <td>18.7</td>\n",
       "      <td>396.90</td>\n",
       "      <td>5.33</td>\n",
       "      <td>36.2</td>\n",
       "    </tr>\n",
       "  </tbody>\n",
       "</table>\n",
       "</div>"
      ],
      "text/plain": [
       "   Unnamed: 0     CRIM    ZN  INDUS  CHAS    NOX     RM   AGE     DIS  RAD  \\\n",
       "0           0  0.00632  18.0   2.31   0.0  0.538  6.575  65.2  4.0900  1.0   \n",
       "1           1  0.02731   0.0   7.07   0.0  0.469  6.421  78.9  4.9671  2.0   \n",
       "2           2  0.02729   0.0   7.07   0.0  0.469  7.185  61.1  4.9671  2.0   \n",
       "3           3  0.03237   0.0   2.18   0.0  0.458  6.998  45.8  6.0622  3.0   \n",
       "4           4  0.06905   0.0   2.18   0.0  0.458  7.147  54.2  6.0622  3.0   \n",
       "\n",
       "     TAX  PTRATIO       B  LSTAT  Price  \n",
       "0  296.0     15.3  396.90   4.98   24.0  \n",
       "1  242.0     17.8  396.90   9.14   21.6  \n",
       "2  242.0     17.8  392.83   4.03   34.7  \n",
       "3  222.0     18.7  394.63   2.94   33.4  \n",
       "4  222.0     18.7  396.90   5.33   36.2  "
      ]
     },
     "execution_count": 1,
     "metadata": {},
     "output_type": "execute_result"
    }
   ],
   "source": [
    "import pandas as pd\n",
    "from sklearn.linear_model import LinearRegression, Lasso, Ridge\n",
    "from sklearn.preprocessing import StandardScaler\n",
    "from sklearn.model_selection import train_test_split\n",
    "from sklearn.metrics import r2_score\n",
    "from sklearn.preprocessing import PolynomialFeatures\n",
    "\n",
    "data = pd.read_csv('boston.csv')\n",
    "data.head()"
   ]
  },
  {
   "cell_type": "code",
   "execution_count": 2,
   "id": "e29c5afb-9574-4b4e-afcf-fe1896c67fdf",
   "metadata": {},
   "outputs": [
    {
     "data": {
      "text/html": [
       "<div>\n",
       "<style scoped>\n",
       "    .dataframe tbody tr th:only-of-type {\n",
       "        vertical-align: middle;\n",
       "    }\n",
       "\n",
       "    .dataframe tbody tr th {\n",
       "        vertical-align: top;\n",
       "    }\n",
       "\n",
       "    .dataframe thead th {\n",
       "        text-align: right;\n",
       "    }\n",
       "</style>\n",
       "<table border=\"1\" class=\"dataframe\">\n",
       "  <thead>\n",
       "    <tr style=\"text-align: right;\">\n",
       "      <th></th>\n",
       "      <th>CRIM</th>\n",
       "      <th>ZN</th>\n",
       "      <th>INDUS</th>\n",
       "      <th>CHAS</th>\n",
       "      <th>NOX</th>\n",
       "      <th>RM</th>\n",
       "      <th>AGE</th>\n",
       "      <th>DIS</th>\n",
       "      <th>RAD</th>\n",
       "      <th>TAX</th>\n",
       "      <th>PTRATIO</th>\n",
       "      <th>B</th>\n",
       "      <th>LSTAT</th>\n",
       "      <th>Price</th>\n",
       "    </tr>\n",
       "  </thead>\n",
       "  <tbody>\n",
       "    <tr>\n",
       "      <th>0</th>\n",
       "      <td>0.00632</td>\n",
       "      <td>18.0</td>\n",
       "      <td>2.31</td>\n",
       "      <td>0.0</td>\n",
       "      <td>0.538</td>\n",
       "      <td>6.575</td>\n",
       "      <td>65.2</td>\n",
       "      <td>4.0900</td>\n",
       "      <td>1.0</td>\n",
       "      <td>296.0</td>\n",
       "      <td>15.3</td>\n",
       "      <td>396.90</td>\n",
       "      <td>4.98</td>\n",
       "      <td>24.0</td>\n",
       "    </tr>\n",
       "    <tr>\n",
       "      <th>1</th>\n",
       "      <td>0.02731</td>\n",
       "      <td>0.0</td>\n",
       "      <td>7.07</td>\n",
       "      <td>0.0</td>\n",
       "      <td>0.469</td>\n",
       "      <td>6.421</td>\n",
       "      <td>78.9</td>\n",
       "      <td>4.9671</td>\n",
       "      <td>2.0</td>\n",
       "      <td>242.0</td>\n",
       "      <td>17.8</td>\n",
       "      <td>396.90</td>\n",
       "      <td>9.14</td>\n",
       "      <td>21.6</td>\n",
       "    </tr>\n",
       "    <tr>\n",
       "      <th>2</th>\n",
       "      <td>0.02729</td>\n",
       "      <td>0.0</td>\n",
       "      <td>7.07</td>\n",
       "      <td>0.0</td>\n",
       "      <td>0.469</td>\n",
       "      <td>7.185</td>\n",
       "      <td>61.1</td>\n",
       "      <td>4.9671</td>\n",
       "      <td>2.0</td>\n",
       "      <td>242.0</td>\n",
       "      <td>17.8</td>\n",
       "      <td>392.83</td>\n",
       "      <td>4.03</td>\n",
       "      <td>34.7</td>\n",
       "    </tr>\n",
       "    <tr>\n",
       "      <th>3</th>\n",
       "      <td>0.03237</td>\n",
       "      <td>0.0</td>\n",
       "      <td>2.18</td>\n",
       "      <td>0.0</td>\n",
       "      <td>0.458</td>\n",
       "      <td>6.998</td>\n",
       "      <td>45.8</td>\n",
       "      <td>6.0622</td>\n",
       "      <td>3.0</td>\n",
       "      <td>222.0</td>\n",
       "      <td>18.7</td>\n",
       "      <td>394.63</td>\n",
       "      <td>2.94</td>\n",
       "      <td>33.4</td>\n",
       "    </tr>\n",
       "    <tr>\n",
       "      <th>4</th>\n",
       "      <td>0.06905</td>\n",
       "      <td>0.0</td>\n",
       "      <td>2.18</td>\n",
       "      <td>0.0</td>\n",
       "      <td>0.458</td>\n",
       "      <td>7.147</td>\n",
       "      <td>54.2</td>\n",
       "      <td>6.0622</td>\n",
       "      <td>3.0</td>\n",
       "      <td>222.0</td>\n",
       "      <td>18.7</td>\n",
       "      <td>396.90</td>\n",
       "      <td>5.33</td>\n",
       "      <td>36.2</td>\n",
       "    </tr>\n",
       "  </tbody>\n",
       "</table>\n",
       "</div>"
      ],
      "text/plain": [
       "      CRIM    ZN  INDUS  CHAS    NOX     RM   AGE     DIS  RAD    TAX  \\\n",
       "0  0.00632  18.0   2.31   0.0  0.538  6.575  65.2  4.0900  1.0  296.0   \n",
       "1  0.02731   0.0   7.07   0.0  0.469  6.421  78.9  4.9671  2.0  242.0   \n",
       "2  0.02729   0.0   7.07   0.0  0.469  7.185  61.1  4.9671  2.0  242.0   \n",
       "3  0.03237   0.0   2.18   0.0  0.458  6.998  45.8  6.0622  3.0  222.0   \n",
       "4  0.06905   0.0   2.18   0.0  0.458  7.147  54.2  6.0622  3.0  222.0   \n",
       "\n",
       "   PTRATIO       B  LSTAT  Price  \n",
       "0     15.3  396.90   4.98   24.0  \n",
       "1     17.8  396.90   9.14   21.6  \n",
       "2     17.8  392.83   4.03   34.7  \n",
       "3     18.7  394.63   2.94   33.4  \n",
       "4     18.7  396.90   5.33   36.2  "
      ]
     },
     "execution_count": 2,
     "metadata": {},
     "output_type": "execute_result"
    }
   ],
   "source": [
    "data.drop(\"Unnamed: 0\", axis=1, inplace=True)\n",
    "data.head()"
   ]
  },
  {
   "cell_type": "code",
   "execution_count": 3,
   "id": "740ccfea-b266-4340-a61a-e7d287795688",
   "metadata": {},
   "outputs": [
    {
     "data": {
      "text/plain": [
       "(506, 14)"
      ]
     },
     "execution_count": 3,
     "metadata": {},
     "output_type": "execute_result"
    }
   ],
   "source": [
    "data.shape"
   ]
  },
  {
   "cell_type": "code",
   "execution_count": 4,
   "id": "da8ba8c9-5bb3-47c8-9a16-330113a8afe9",
   "metadata": {},
   "outputs": [
    {
     "data": {
      "text/plain": [
       "CRIM       0\n",
       "ZN         0\n",
       "INDUS      0\n",
       "CHAS       0\n",
       "NOX        0\n",
       "RM         0\n",
       "AGE        0\n",
       "DIS        0\n",
       "RAD        0\n",
       "TAX        0\n",
       "PTRATIO    0\n",
       "B          0\n",
       "LSTAT      0\n",
       "Price      0\n",
       "dtype: int64"
      ]
     },
     "execution_count": 4,
     "metadata": {},
     "output_type": "execute_result"
    }
   ],
   "source": [
    "data.isnull().sum()"
   ]
  },
  {
   "cell_type": "code",
   "execution_count": 5,
   "id": "20f58d08-344f-4285-86ab-85ce10f6d973",
   "metadata": {},
   "outputs": [
    {
     "name": "stdout",
     "output_type": "stream",
     "text": [
      "(404, 14)\n",
      "(102, 14)\n"
     ]
    }
   ],
   "source": [
    "train_set, test_set = train_test_split(data, test_size=0.2, random_state=42)\n",
    "print(train_set.shape)\n",
    "print(test_set.shape)"
   ]
  },
  {
   "cell_type": "code",
   "execution_count": 6,
   "id": "5cc1ee52-75eb-454a-b67a-6c581819ef2a",
   "metadata": {},
   "outputs": [
    {
     "name": "stdout",
     "output_type": "stream",
     "text": [
      "(404, 13)\n",
      "(404,)\n",
      "(102, 13)\n",
      "(102,)\n"
     ]
    }
   ],
   "source": [
    "X_train = train_set.drop(\"Price\", axis=1)\n",
    "y_train = train_set['Price']\n",
    "X_test = test_set.drop(\"Price\", axis=1)\n",
    "y_test = test_set['Price']\n",
    "\n",
    "print(X_train.shape)\n",
    "print(y_train.shape)\n",
    "print(X_test.shape)\n",
    "print(y_test.shape)"
   ]
  },
  {
   "cell_type": "code",
   "execution_count": 7,
   "id": "75686870-c654-43f6-a56c-d7a8a1e4fe4b",
   "metadata": {},
   "outputs": [],
   "source": [
    "scaler = StandardScaler()\n",
    "X_train_scaled = scaler.fit_transform(X_train)\n",
    "X_test_scaled  =scaler.transform(X_test)"
   ]
  },
  {
   "cell_type": "code",
   "execution_count": 8,
   "id": "b0f52653-1b89-4aee-9dd6-b8eecd028b27",
   "metadata": {},
   "outputs": [
    {
     "name": "stdout",
     "output_type": "stream",
     "text": [
      "Linear model: [-1.00213533  0.69626862  0.27806485  0.7187384  -2.0223194   3.14523956\n",
      " -0.17604788 -3.0819076   2.25140666 -1.76701378 -2.03775151  1.12956831\n",
      " -3.61165842]\n",
      "Lasso model: [-0.71836455  0.25962714 -0.          0.69822096 -1.56814243  3.27150693\n",
      " -0.         -2.28444944  0.67193802 -0.3566537  -1.89333519  1.03136581\n",
      " -3.60941047]\n",
      "Ridge model: [-1.00111591  0.69436316  0.27539404  0.71912548 -2.01912122  3.14590087\n",
      " -0.17617627 -3.07816919  2.24333232 -1.75959591 -2.03674427  1.12933027\n",
      " -3.61037565]\n"
     ]
    }
   ],
   "source": [
    "reg_model = LinearRegression()\n",
    "reg_model.fit(X_train_scaled, y_train)\n",
    "print (\"Linear model:\", (reg_model.coef_))\n",
    "\n",
    "lasso = Lasso(alpha=0.1)\n",
    "lasso.fit(X_train_scaled, y_train)\n",
    "print (\"Lasso model:\", (lasso.coef_))\n",
    "\n",
    "ridge = Ridge(alpha=0.1)\n",
    "ridge.fit(X_train_scaled, y_train)\n",
    "print (\"Ridge model:\", (ridge.coef_))"
   ]
  },
  {
   "cell_type": "code",
   "execution_count": 9,
   "id": "74acde4b-72bb-4bb9-9f1c-7266071f5b19",
   "metadata": {},
   "outputs": [
    {
     "name": "stdout",
     "output_type": "stream",
     "text": [
      "Linear Regression Model Training Score:  0.7508856358979673\n",
      "Linear Regression Model Testing Score:  0.668759493535632\n",
      "\n",
      "Ridge Regression Model Training Score:  0.7508854741163441\n",
      "Ridge Regression Model Testing Score:  0.6687298368808312\n",
      "\n",
      "Lasso Regression Model Training Score:  0.7450370791852488\n",
      "Lasso Regression Model Testing Score:  0.6501375183238987\n"
     ]
    }
   ],
   "source": [
    "print(\"Linear Regression Model Training Score: \", reg_model.score(X_train_scaled, y_train))\n",
    "print(\"Linear Regression Model Testing Score: \",reg_model.score(X_test_scaled, y_test))\n",
    "print()\n",
    "print(\"Ridge Regression Model Training Score: \",ridge.score(X_train_scaled, y_train))\n",
    "print(\"Ridge Regression Model Testing Score: \",ridge.score(X_test_scaled, y_test))\n",
    "print()\n",
    "print(\"Lasso Regression Model Training Score: \",lasso.score(X_train_scaled, y_train))\n",
    "print(\"Lasso Regression Model Testing Score: \",lasso.score(X_test_scaled, y_test))"
   ]
  },
  {
   "cell_type": "markdown",
   "id": "b3346c38-480d-4618-9de9-f682a02b0583",
   "metadata": {},
   "source": [
    "The results are almost identical but with less complexity of the models. We will now create a polynomial regression model by creating new features from the features followed by transforming the data"
   ]
  },
  {
   "cell_type": "code",
   "execution_count": 10,
   "id": "b408a9b0-1a95-4cf7-b6dd-8ec9794c6115",
   "metadata": {},
   "outputs": [
    {
     "name": "stdout",
     "output_type": "stream",
     "text": [
      "(404, 105)\n",
      "(102, 105)\n"
     ]
    }
   ],
   "source": [
    "poly = PolynomialFeatures(degree=2)\n",
    "X_train_poly = poly.fit_transform(X_train)\n",
    "X_test_poly = poly.transform(X_test)\n",
    "\n",
    "scaler = StandardScaler()\n",
    "X_train_scaled = scaler.fit_transform(X_train_poly)\n",
    "X_test_scaled  =scaler.transform(X_test_poly)\n",
    "\n",
    "print(X_train_scaled.shape)\n",
    "print(X_test_scaled.shape)"
   ]
  },
  {
   "cell_type": "code",
   "execution_count": 11,
   "id": "347a5fca-12a3-4013-9593-f51361e7241e",
   "metadata": {},
   "outputs": [
    {
     "name": "stdout",
     "output_type": "stream",
     "text": [
      "Linear model: [ 2.09595016e-11 -6.42920530e+01  1.52112064e+01 -3.25121792e+01\n",
      "  9.49135961e+00  3.36010216e+01  1.26669624e+01  1.83829850e+01\n",
      " -8.64724047e+00  2.26049364e+01  3.78272080e-01  1.70377286e+01\n",
      "  1.27082025e+01 -1.37765253e+00  2.25998895e-01  1.90418618e-01\n",
      "  9.02348090e+01  2.29774549e+00 -1.21412085e+01  1.01723957e+01\n",
      " -1.82084846e+00 -1.06508771e+00  6.70989855e+01 -2.11420775e+02\n",
      "  1.17000453e+02 -1.17607874e+00  6.19035801e+00 -7.82511615e-01\n",
      " -3.97300370e-01 -2.28808076e-01 -1.31942510e+01 -5.51619520e-01\n",
      "  9.95876878e-01 -3.67644887e+00 -1.53781596e+00  6.27397511e+00\n",
      " -1.20885912e+00  7.31599298e-01 -1.58773362e+00  9.18827002e+00\n",
      " -1.01191055e-01 -1.09750638e+00  1.38474816e+01  3.18030523e+00\n",
      "  2.14955634e+00 -5.73961017e+00  9.79861050e-01 -2.24573690e+00\n",
      "  8.05707681e+00 -3.04303113e+00  9.49135961e+00 -5.98888720e+00\n",
      " -9.06158985e+00 -7.29966041e-01 -7.42346339e-01  4.83005235e-01\n",
      " -8.87256356e-01 -3.79100204e+00  1.09762617e+00 -8.85151006e-01\n",
      " -1.40531067e+01 -6.39415485e+00 -2.38800038e-01  1.13573928e+01\n",
      " -1.28093987e+01  4.02793652e+01 -3.80299591e+01 -1.33801209e+00\n",
      "  5.39646365e+00  1.07927367e+01 -1.27177694e+01 -4.99852851e+00\n",
      " -9.83803204e+00 -1.45515423e+01 -8.43038187e+00 -4.30602956e+00\n",
      " -2.70726794e-01 -2.51432159e-01  8.25725173e-02  1.24749925e+01\n",
      " -1.12481685e+01  1.78796092e+00 -5.42133829e+00 -6.95095663e+00\n",
      "  1.06501661e+01  2.27365084e-01 -3.00917418e+00 -1.00263564e+01\n",
      " -3.24882597e+00  8.25571904e-01 -2.95277995e+01  5.06974319e+01\n",
      " -2.78466699e+01  1.00251765e+01 -6.54196361e+00 -1.16950569e+01\n",
      "  2.60701652e+01 -2.14984304e+01 -3.95627396e+00  1.50106204e+00\n",
      "  6.92349830e+00  1.27853582e+00 -1.27435779e+00 -3.61141630e-01\n",
      "  4.24973828e+00]\n",
      "Lasso model: [ 0.         -0.          0.          0.          0.         -0.\n",
      "  0.         -0.         -0.          0.43730281  0.         -0.\n",
      "  0.         -0.         -0.          0.26016147 -0.          1.25821607\n",
      " -0.         -0.06832298 -0.         -0.         -0.         -0.\n",
      " -0.         -0.18556489 -0.79593082  0.         -0.20896864  0.30598979\n",
      "  0.          0.          0.          0.         -0.          0.\n",
      "  0.          0.         -0.          0.18005348 -0.         -0.\n",
      " -0.          0.         -0.09917154  0.          0.          0.\n",
      "  0.         -0.          0.         -0.25016164 -0.          0.\n",
      "  0.         -0.         -0.          0.          0.03854748 -0.13390483\n",
      " -0.         -1.46190087 -0.         -1.04496949  0.         -0.\n",
      " -0.          0.         -0.          6.14303412 -0.         -0.\n",
      " -0.         -0.         -1.70228979  0.13058008 -4.88175267  0.\n",
      " -0.0812048   0.          0.         -0.          0.         -0.\n",
      "  0.          0.         -0.71098289 -0.         -0.          0.01166508\n",
      "  0.          0.          0.          0.88140839 -0.          0.\n",
      "  0.          0.         -1.66613413 -0.          0.         -0.\n",
      "  0.         -0.          2.68543441]\n",
      "Ridge model: [ 0.          0.03580557 -0.17479851  0.29682343  0.24654676 -0.18328544\n",
      "  1.48615031  0.23548709 -0.58881148  0.72415321  0.06943351 -0.36890584\n",
      "  0.19823604 -0.441997    0.23740393  0.41852249  0.04102997  1.60769883\n",
      " -0.18459636 -0.61517703  0.06338484 -0.25758427 -0.09010928 -0.02837255\n",
      "  0.00325917 -0.41181086 -0.01252261  0.23241625 -0.4059859   0.21070012\n",
      "  0.00854812  0.33781234  0.03222387 -0.02351349 -0.27164883  0.21338141\n",
      "  0.37914358 -0.11407205 -0.54040038  0.65169547 -0.05565791  0.07191723\n",
      " -0.67101419  0.29843828 -0.70604646  0.44735042  0.67271795 -0.07876481\n",
      "  0.41454897 -0.57172757  0.24654676 -0.80280393 -0.28380378  0.29115509\n",
      "  0.0348042  -0.42903944 -0.18230801  0.19013067  0.6804405  -0.64093262\n",
      " -0.39170976 -0.46320815 -0.18498708 -0.78211205  0.10411827 -0.24847131\n",
      " -0.72815796 -0.00473347 -0.47688057  2.90367914 -0.22537723  0.33606141\n",
      " -0.76515885 -1.3228634  -0.6806324   1.19447464 -2.18367355  0.37524233\n",
      " -0.29728157  0.45812571  0.08701391 -0.3451045  -0.07304449 -0.72943515\n",
      "  0.33145919  0.46657742 -0.83125351 -0.09334984 -0.43539351  0.42912335\n",
      "  0.21184226  0.32348006  0.61392426  0.53798337 -1.15204178  0.18858145\n",
      "  0.1240637   0.01520793 -0.97795027 -0.26134785 -0.14230118 -0.38791182\n",
      " -0.26181101 -0.55584699  2.30945514]\n"
     ]
    }
   ],
   "source": [
    "reg_model = LinearRegression()\n",
    "reg_model.fit(X_train_scaled, y_train)\n",
    "print (\"Linear model:\", (reg_model.coef_))\n",
    "\n",
    "lasso = Lasso(alpha=0.1)\n",
    "lasso.fit(X_train_scaled, y_train)\n",
    "print (\"Lasso model:\", (lasso.coef_))\n",
    "\n",
    "ridge = Ridge(alpha=30)\n",
    "ridge.fit(X_train_scaled, y_train)\n",
    "print (\"Ridge model:\", (ridge.coef_))"
   ]
  },
  {
   "cell_type": "code",
   "execution_count": 12,
   "id": "e3c9cd9a-9ab1-4bce-a9d9-048f46828847",
   "metadata": {},
   "outputs": [
    {
     "name": "stdout",
     "output_type": "stream",
     "text": [
      "Linear Regression Model Training Score:  0.9409317027113498\n",
      "Linear Regression Model Testing Score:  0.8055829447972147\n",
      "\n",
      "Ridge Regression Model Training Score:  0.8502074967229956\n",
      "Ridge Regression Model Testing Score:  0.7945568182612386\n",
      "\n",
      "Lasso Regression Model Training Score:  0.8407156586155267\n",
      "Lasso Regression Model Testing Score:  0.787881150824475\n"
     ]
    }
   ],
   "source": [
    "print(\"Linear Regression Model Training Score: \", reg_model.score(X_train_scaled, y_train))\n",
    "print(\"Linear Regression Model Testing Score: \",reg_model.score(X_test_scaled, y_test))\n",
    "print()\n",
    "print(\"Ridge Regression Model Training Score: \",ridge.score(X_train_scaled, y_train))\n",
    "print(\"Ridge Regression Model Testing Score: \",ridge.score(X_test_scaled, y_test))\n",
    "print()\n",
    "print(\"Lasso Regression Model Training Score: \",lasso.score(X_train_scaled, y_train))\n",
    "print(\"Lasso Regression Model Testing Score: \",lasso.score(X_test_scaled, y_test))"
   ]
  },
  {
   "cell_type": "markdown",
   "id": "d9dc9658-600e-4a8f-91fe-548494718e31",
   "metadata": {},
   "source": [
    "Regularization is done to control the performance of the model and to avoid the model to get overfitted"
   ]
  }
 ],
 "metadata": {
  "kernelspec": {
   "display_name": "Python 3 (ipykernel)",
   "language": "python",
   "name": "python3"
  },
  "language_info": {
   "codemirror_mode": {
    "name": "ipython",
    "version": 3
   },
   "file_extension": ".py",
   "mimetype": "text/x-python",
   "name": "python",
   "nbconvert_exporter": "python",
   "pygments_lexer": "ipython3",
   "version": "3.12.4"
  }
 },
 "nbformat": 4,
 "nbformat_minor": 5
}
